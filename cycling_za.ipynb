{
 "cells": [
  {
   "cell_type": "code",
   "execution_count": 30,
   "metadata": {},
   "outputs": [],
   "source": [
    "import pandas as pd\n",
    "from openai import OpenAI\n",
    "import os\n",
    "from dotenv import load_dotenv\n",
    "import pickle\n",
    "from pydantic import BaseModel\n",
    "import tiktoken\n",
    "import os.path\n",
    "import pprint"
   ]
  },
  {
   "cell_type": "code",
   "execution_count": 31,
   "metadata": {},
   "outputs": [],
   "source": [
    "#https://cookbook.openai.com/examples/how_to_count_tokens_with_tiktoken\n",
    "\n",
    "CHAT_GPT_MODEL = \"gpt-4o-mini\"\n",
    "encoding = tiktoken.encoding_for_model(\"gpt-4\")"
   ]
  },
  {
   "cell_type": "code",
   "execution_count": 32,
   "metadata": {},
   "outputs": [
    {
     "data": {
      "text/plain": [
       "True"
      ]
     },
     "execution_count": 32,
     "metadata": {},
     "output_type": "execute_result"
    }
   ],
   "source": [
    "from os.path import expanduser\n",
    "load_dotenv(os.path.join(expanduser(\"~\"), \".env\"))"
   ]
  },
  {
   "cell_type": "code",
   "execution_count": 33,
   "metadata": {},
   "outputs": [],
   "source": [
    "client = OpenAI(\n",
    "    # defaults to os.environ.get(\"OPENAI_API_KEY\")\n",
    "    api_key=os.getenv(\"OPENAI_API_KEY\"),\n",
    ")"
   ]
  },
  {
   "cell_type": "code",
   "execution_count": 34,
   "metadata": {},
   "outputs": [],
   "source": [
    "data_file = \"data_input.xlsx\"\n",
    "times = pd.read_excel(data_file, sheet_name=\"Data\", index_col=\"ID\")\n",
    "demog = pd.read_excel(data_file, sheet_name=\"Demographic\")"
   ]
  },
  {
   "cell_type": "code",
   "execution_count": 35,
   "metadata": {},
   "outputs": [],
   "source": [
    "times.columns = [\n",
    "    \"start_time\",\n",
    "    \"completion_time\",\n",
    "    \"star_rating\",\n",
    "    \"txt_what_liked\",\n",
    "    \"txt_what_not_liked\",\n",
    "    \"txt_do_to_improve\",\n",
    "    \"txt_anything_else\",\n",
    "    \"recommend_likelihood\",\n",
    "    \"ref_num\",\n",
    "    \"person_id\",\n",
    "    \"start_group\",\n",
    "    \"gender\",\n",
    "    \"age_group\",\n",
    "    \"country\",\n",
    "    \"province\",\n",
    "    \"number_finished\",\n",
    "    \"reg_day\",\n",
    "    \"reg_hour\",\n",
    "    \"PPA\",\n",
    "    \"has_result\",\n",
    "]\n",
    "\n",
    "demog.columns = [\n",
    "    \"person_id\",\n",
    "    \"start_group\",\n",
    "    \"gender\",\n",
    "    \"age_group\",\n",
    "    \"country\",\n",
    "    \"province\",\n",
    "    \"number_finished\",\n",
    "    \"reg_day\",\n",
    "    \"reg_hour\",\n",
    "    \"PPA\",\n",
    "    \"has_result\",\n",
    "]"
   ]
  },
  {
   "cell_type": "code",
   "execution_count": 36,
   "metadata": {},
   "outputs": [],
   "source": [
    "all_data = pd.merge(\n",
    "    times, demog, on=\"person_id\", how=\"left\", suffixes=(None, \"_demog\")\n",
    ").convert_dtypes()\n",
    "\n",
    "all_data.drop(\n",
    "    columns=[\n",
    "        \"start_group\",\n",
    "        \"gender\",\n",
    "        \"age_group\",\n",
    "        \"country\",\n",
    "        \"province\",\n",
    "        \"number_finished\",\n",
    "        \"reg_day\",\n",
    "        \"reg_hour\",\n",
    "        \"PPA\",\n",
    "        \"has_result\",\n",
    "    ],\n",
    "    inplace=True,\n",
    ")"
   ]
  },
  {
   "cell_type": "code",
   "execution_count": 37,
   "metadata": {},
   "outputs": [],
   "source": [
    "all_data = all_data.astype(\n",
    "    {\n",
    "        \"start_group_demog\": \"category\",\n",
    "        \"gender_demog\": \"category\",\n",
    "        \"age_group_demog\": \"category\",\n",
    "        \"country_demog\": \"category\",\n",
    "        \"province_demog\": \"category\",\n",
    "    }\n",
    ")"
   ]
  },
  {
   "cell_type": "code",
   "execution_count": 38,
   "metadata": {},
   "outputs": [],
   "source": [
    "# Text cleanup\n",
    "no_answer_text = \"(none)\"\n",
    "\n",
    "txt_cols = [\n",
    "    \"txt_what_liked\",\n",
    "    \"txt_what_not_liked\",\n",
    "    \"txt_do_to_improve\",\n",
    "    \"txt_anything_else\",\n",
    "]\n",
    "\n",
    "all_data[txt_cols] = all_data[txt_cols].fillna(no_answer_text)\n",
    "\n",
    "search_pattern = \"|\".join([\"NA\", \"Na\"])\n",
    "\n",
    "for col in txt_cols:\n",
    "    all_data[col] = all_data[col].str.replace(search_pattern, no_answer_text, regex=True)\n",
    "    all_data[col] = all_data[col].replace(\"\", no_answer_text)\n",
    "    all_data[col] = all_data[col].str.replace(r\"[^a-zA-Z ]\", \"\", regex=True) #not needed\n",
    "    all_data[col] = all_data[col].str.replace(\"\\n\", \" \") #remove line breaks"
   ]
  },
  {
   "cell_type": "code",
   "execution_count": 39,
   "metadata": {},
   "outputs": [
    {
     "name": "stdout",
     "output_type": "stream",
     "text": [
      "txt_what_liked 62476\n",
      "txt_what_not_liked 96681\n",
      "txt_do_to_improve 78861\n",
      "txt_anything_else 58871\n"
     ]
    }
   ],
   "source": [
    "# play with tiktoken\n",
    "for col in txt_cols:\n",
    "    test_text = \" \".join(all_data[col].to_list())\n",
    "    tokens = encoding.encode(test_text)\n",
    "    print(col, len(tokens))"
   ]
  },
  {
   "cell_type": "code",
   "execution_count": 40,
   "metadata": {},
   "outputs": [
    {
     "name": "stdout",
     "output_type": "stream",
     "text": [
      "Data with no demographic records: 55 rows, 0.95% of 5784 total records.\n"
     ]
    }
   ],
   "source": [
    "len_times = len(times)\n",
    "lost_records = len(all_data) - len_times\n",
    "lost_records_percent = lost_records / len_times\n",
    "print(\n",
    "    f\"Data with no demographic records: {lost_records} rows, {lost_records_percent:.2%} of {len_times} total records.\"\n",
    ")"
   ]
  },
  {
   "cell_type": "code",
   "execution_count": 41,
   "metadata": {},
   "outputs": [],
   "source": [
    "# GPT call for themes\n",
    "\n",
    "def GPT_get_themes(responses):\n",
    "    # OpenAI API call to summarize the text\n",
    "\n",
    "    class Theme(BaseModel):\n",
    "        theme_id: int\n",
    "        theme_text: str\n",
    "\n",
    "    class AllThemes(BaseModel):\n",
    "        themes: list[Theme]\n",
    "\n",
    "    messages = [\n",
    "            {\"role\": \"system\", \"content\": \"You are a helpful assistant.\"},\n",
    "            {\n",
    "                \"role\": \"user\",\n",
    "                \"content\": f\"\"\"The following is a list of responses to a single question in a market research survey. \n",
    "                \n",
    "                Create an overall list of themes extracted from all answers. There shoud be at most 20 themes, \n",
    "                and they should have mninimal overlap. Each theme should be a maximum of 20 words.\n",
    "                Each theme will have an index called theme_id and the theme itself as theme_text.\n",
    "                Return all the themes ina list called 'themes'\n",
    "                \n",
    "                Here are the responses{responses}\"\"\",\n",
    "            },\n",
    "        ]\n",
    "\n",
    "    completion   = client.beta.chat.completions.parse(\n",
    "        model=CHAT_GPT_MODEL,\n",
    "        temperature = 0.3,\n",
    "        messages=messages,\n",
    "        response_format=AllThemes,\n",
    "    )\n",
    "\n",
    "    # Extract the summary from the response\n",
    "    return completion.choices[0].message.parsed\n",
    "  "
   ]
  },
  {
   "cell_type": "code",
   "execution_count": 42,
   "metadata": {},
   "outputs": [],
   "source": [
    "# GPT call for theme matching\n",
    "# https://platform.openai.com/docs/guides/structured-outputs\n",
    "def GPT_match_themes(themes, responses):\n",
    "\n",
    "    class EachAnswer(BaseModel):\n",
    "        response_id: int\n",
    "        response_text: str\n",
    "        theme_id: int\n",
    "        theme_text: str\n",
    "\n",
    "    class AllAnswers(BaseModel):\n",
    "        classifications: list[EachAnswer]\n",
    "\n",
    "    messages = [\n",
    "            {\n",
    "                \"role\": \"system\",\n",
    "                \"content\": \"You are an assistant for matching human responses to a survey to pre-existing themes.\",\n",
    "            },\n",
    "            {\n",
    "                \"role\": \"user\",\n",
    "                \"content\": f\"\"\"I have a list of themes summarised over some responses to a survey question. The themes represent common topics found in the resposnes.\n",
    "        Here are the themes: {themes}.\n",
    "        \n",
    "        I will give you the responses used to generate the themes. Each response has its own id called response_id.\n",
    "\n",
    "        For each response, I want you to identify which one of the themes most closely represents the response.\n",
    "        Return the answers in the object EachAnswer.\n",
    "    \n",
    "        Return the original response_id, the response_text, the theme_id and theme_text of the most representative theme.\n",
    "        \n",
    "        However, if the response text is {no_answer_text}, there will be no theme.\n",
    "        In this case. return the original response_id, the response_text, 0 as the theme index and \"no theme\" as the theme text.\n",
    "\n",
    "        Return all the EachAnswer objects in a final object called AllAnswers\n",
    "\n",
    "        Here are the responses {responses}:\"\"\",\n",
    "            },\n",
    "        ]\n",
    "    \n",
    "    completion = client.beta.chat.completions.parse(\n",
    "        model=CHAT_GPT_MODEL,\n",
    "        temperature=0.1,\n",
    "        messages=messages,\n",
    "        response_format=AllAnswers,\n",
    "    )\n",
    "\n",
    "    return completion.choices[0].message.parsed"
   ]
  },
  {
   "cell_type": "code",
   "execution_count": 43,
   "metadata": {},
   "outputs": [],
   "source": [
    "# GPT call to summarise inputs\n",
    "\n",
    "def GPT_summarize_responses(inputs):\n",
    "    # OpenAI API call to summarize the text\n",
    "    response = client.chat.completions.create(\n",
    "        model=CHAT_GPT_MODEL,  # Specify the model you want to use\n",
    "        messages=[\n",
    "            {\n",
    "                \"role\": \"system\",\n",
    "                \"content\": \"You are a helpful assistant for summarising survey responses.\",\n",
    "            },\n",
    "            {\n",
    "                \"role\": \"user\",\n",
    "                \"content\": f\"\"\"You will be given a list of responses to a question in a survey. Your job is to extract key themes from the responses.\n",
    "                Ignore any responses that are very short, are empty, or have the text {no_answer_text}\n",
    "                Each theme should have a headline, followed by an explanatory paragraph. For each theme, provide from 1 to 3 verbatim quotes to illustrate the theme along side the explanatory paragraph.\n",
    "                Don't provide any duplicated verbatim quotes.\n",
    "                Sort the themes by their decreasing frequency of appearance. At the end, be sure to say which was the most commonly seen theme, and which was the least commonly seen.\n",
    "\n",
    "                Here are your inputs:\\n\\n{inputs}\"\"\",\n",
    "            },\n",
    "        ],\n",
    "    )\n",
    "\n",
    "    # Extract the summary from the response\n",
    "    summary = response.choices[0].message.content.strip()\n",
    "    return summary"
   ]
  },
  {
   "cell_type": "code",
   "execution_count": 83,
   "metadata": {},
   "outputs": [],
   "source": [
    "txt_cols_to_classify = [\n",
    "    \"txt_what_liked\",\n",
    "    \"txt_what_not_liked\",\n",
    "    \"txt_do_to_improve\",\n",
    "    \"txt_anything_else\",\n",
    "]\n",
    "\n",
    "txt_cols_to_summarise = [\n",
    "    \"txt_anything_else\",\n",
    "]"
   ]
  },
  {
   "cell_type": "code",
   "execution_count": 84,
   "metadata": {},
   "outputs": [],
   "source": [
    "# Get the themes\n",
    "\n",
    "def extract_themes(dataframe, columns):\n",
    "\n",
    "    themes_cache = \"cache/themes.pkl\"\n",
    "\n",
    "    if os.path.isfile(themes_cache):\n",
    "\n",
    "        with open(themes_cache, \"rb\") as picklefile:\n",
    "            themes_dict = pickle.load(picklefile)\n",
    "\n",
    "        return themes_dict\n",
    "\n",
    "    themes_dict = {}\n",
    "\n",
    "    for column in columns:\n",
    "\n",
    "        print(f\"Column: {column}\")\n",
    "        response_list = \" \".join(dataframe[column].to_list())\n",
    "        result = GPT_get_themes(response_list)\n",
    "        theme_list = [(theme.theme_id, theme.theme_text) for theme in result.themes]\n",
    "        themes_dict[column] = theme_list\n",
    "\n",
    "    with open(themes_cache, \"wb\") as picklefile:\n",
    "        pickle.dump(themes_dict, picklefile)\n",
    "\n",
    "    return themes_dict"
   ]
  },
  {
   "cell_type": "code",
   "execution_count": null,
   "metadata": {},
   "outputs": [],
   "source": [
    "#Create themes\n",
    "\n",
    "working_data = all_data\n",
    "working_txt_cols_to_classify = txt_cols_to_classify\n",
    "\n",
    "themes_dict = extract_themes(working_data, working_txt_cols_to_classify)"
   ]
  },
  {
   "cell_type": "code",
   "execution_count": 100,
   "metadata": {},
   "outputs": [],
   "source": [
    "# Classify the columns\n",
    "\n",
    "def classify_text_column(dataframe, columns):\n",
    "\n",
    "    classifications_cache = 'cache/classifications.pkl'\n",
    "\n",
    "    for column in columns:\n",
    "\n",
    "        print(f\"Column: {column}\")\n",
    "        response_list = dataframe[column].to_list()\n",
    "        expected_num_outputs = len(response_list)\n",
    "\n",
    "        responses_input = [\n",
    "            f\"{idx} {txt}\"\n",
    "            for idx, txt in zip(dataframe[column].index, dataframe[column])\n",
    "        ]\n",
    "        print(responses_input)\n",
    "\n",
    "        expected_num_outputs = len(response_list)\n",
    "\n",
    "        # responses_input = \"\\n\".join(response_list)\n",
    "        responses_input_for_output = \"\".join([f\"{i}. {response} \\n\" for i, response in enumerate(response_list)])\n",
    "\n",
    "        # responses_input = str(response_list)\n",
    "\n",
    "        with open(f\"outputs/A {column} responses_input.txt\", \"w\") as text_file:\n",
    "            text_file.write(responses_input_for_output)\n",
    "\n",
    "        themes_for_input = themes_dict[column]\n",
    "\n",
    "        print(themes_for_input)\n",
    "\n",
    "        response = GPT_match_themes(themes_for_input, responses_input)\n",
    "        actual_num_outputs = len(response.classifications)\n",
    "\n",
    "        print(\n",
    "            f\"Expected, actual responses: {expected_num_outputs}, {actual_num_outputs}\"\n",
    "        )\n",
    "\n",
    "        with open(f\"outputs/B {column} classifications.txt\", \"w\") as text_file:\n",
    "            for el in response.classifications:\n",
    "                text_file.write(f\"{el.response_id} {el.response_text} {el.theme_id} {el.theme_text} \\n\")\n",
    "\n",
    "        classified_themes = [resp.theme_text for resp in response.classifications]\n",
    "\n",
    "        column_index = dataframe.columns.get_loc(column)\n",
    "        new_name = f'{column}_theme'\n",
    "\n",
    "        try:\n",
    "            dataframe.insert(column_index + 1, new_name, classified_themes)\n",
    "            print(f'New column{ new_name} inserted')\n",
    "\n",
    "        except:\n",
    "            print(\"failed to insert column\")\n",
    "            pass\n",
    "\n",
    "        print()\n",
    "\n",
    "        dataframe.to_pickle(classifications_cache)\n",
    "\n",
    "        return response.classifications"
   ]
  },
  {
   "cell_type": "code",
   "execution_count": 101,
   "metadata": {},
   "outputs": [
    {
     "name": "stdout",
     "output_type": "stream",
     "text": [
      "Column: txt_what_liked\n",
      "['0 none', '1 The Team who organise it', '2 well organised great helpers ', '3 Road closures ', '4 Well organized event and great route', '5 none', '6 Awesome scenery closed roads excellent gees', '7 none', '8 Full road closure ', '9 Riding in a beautiful race on closed roads', '10 none', '11 Well organised as always', '12 Great route and vibe', '13 Efficient start process', '14 Well organised Support from the public Great weather', '15 Beautiful route excellent organization great vibe  on route and afterwards around the beer tents', '16 Enough watering points along the route', '17 none', '18 Route people vibe', '19 The Vibe', '20 All round great event ', '21 Overall enjoyed it ', '22 Much bigger and better experience than the first few years after Covid  Expo almost back to its former glory', '23 The vibe great event', '24 Well organized at start fantastic route ', '25 EVERYTHING', '26 Venue organisation etc', '27 very organised good comradeship amongst the riders', '28 Extremely well and efficiently organised', '29 Organisations Route Experience', '30 David Clarks can do attitude', '31 Everything', '32 none', '33 Well organised excellent route and facilities at the finish', '34 The scenic route and awesome vibe', '35 Vibe', '36 Supporters on route', '37 I loved the route the views and the spectators Being my first it was an awesome experience ', '38 Organization and weather', '39 the route', '40 Gees', '41 Die Gees ', '42 none', '43 none', '44 The spectators', '45 Always the scenery and the vibes ', '46 The amazing scenary and the awesome vibe', '47 Well organised well supported and festive', '48 Well organised well supported and festive', '49 Camaraderie and atmosphere', '50 well organised start was efficient well placed watering points ', '51 A perfect event', '52 The gees', '53 Well organised lots of support on route ', '54 Everything except my start time I have done I think  tours but because I havent done it for a few years I was pushed to a  start NOT FAIR ', '55 Everything ', '56 Everything the vibe and of course Cape Town', '57 Route people supporting  views', '58 Been back there to ride it again after  years such a great raceride nothing better out there ', '59 Its unforgettable', '60 Beautiful ride', '61 Not needing to walk on any hill Finishing with my son', '62 GEES', '63 Well organized from start to finish', '64 Such a beautiful route closed roads well organised', '65 Beautiful route well organized ', '66 Competitor and spectator gees', '67 The beauty of the coursew', '68 Great event as usual', '69 Everything the older I get and the more of these I have done the nicer they become', '70 Excellent organisation wonderful support and gees along the route superb route', '71 The location', '72 Good atmosphere', '73 Well organised great atmosphere ', '74 Organising ', '75 EXCELLENT ORGANIZATION', '76 The atmosphere', '77 The stunning views and warm hospitality of the people along the route', '78 The GEEEEES', '79 Superb organisation ', '80 Organising and the distance', '81 It was well organized and the marshals and watering points along the road was excellent', '82 everything', '83 Well organized and I always have pleasant experiences with the staff and volunteers', '84 The atmosphere', '85 The organisation ', '86 Overall well organised', '87 Extremely well organised as always ', '88 fun atmosphere ', '89 It was well organised and safe The expo was good too ', '90 The organization ', '91 Did the short route due to robbery the Saturday evening before the race and was a bit rattled The  is still challenging but enjoyed every waterpoint and still the good vibe ', '92 Everything just works so smoothlyits a well oiled machine', '93 Scenic ride', '94 Not having to stress about any potholes on the road', '95 The great vibe and scenery ', '96 Well organised as always', '97 Well organised super weather', '98 Well organisedbeen my  oneand  was the best of all of them', '99 The gees was incredible  very well organised', '100 It is amazing with such big event that you manage to keep on time with the jump offs Well done ', '101 SupportersWell organized ', '102 The start procedure and the route with marshalling etc', '103 The route and organisation ', '104 How well the admin behind it is organized and the supporters along the way', '105 Very well organised and probably one of the nicest events to do ', '106 Safe roads support staff along the route water points', '107 Well organised', '108 Very organized ', '109 Well organized  event ', '110 there was enough water points ', '111 the vibe', '112 The atmosphere', '113 Everything', '114 Its usual CTCT splendor gees etc ', '115 Its usual CTCT splendor gees etc ', '116 Huge support', '117 The weather And great organization all round ', '118 The event is incredibly well organized everthing runs like clockwork everyone is friendlyWell sign posted at the start one knows what chute to go to ', '119 The support along side the road and vibe', '120 Very well organized', '121 Well organizedGreat route Fun atmosphere ', '122 This yearthe vibes were better and the expo was much better', '123 The support and aid stations were amazing', '124 Well organized', '125 good organisation', '126 The vibe was incredible as always but more importantly the fun factor was at an all time high', '127 There is no better gees at any other race The view is amazing the organizing is amazing the people are amazing ', '128 Organisation route supporters weather', '129 Organization ', '130 Management  Marshalls Large amounts of riders and spectators  Of course the route', '131 Start layout and procedure was great route is always special finish and hospitality area top notch new timing system excellent', '132 Everything ', '133 The organization runs like  work The vibe along the route is awesome Riding the scenic route with full road closure is very special', '134 Well organized ', '135 well run and a fun route', '136 none', '137 Well Organised and Marshalls very friendly and motivating', '138 Everything', '139 water points ', '140 awesome', '141 Well organizedI liked having my blue backround on my number for  or more tours Maybe make the blue a bit brighter', '142 Really well organized', '143 well organized great water points', '144 Absolutely everything cannot fault any aspect of the before and during experience', '145 Such gees', '146 none', '147 Scenery and vibe', '148 Organisation and timelyness of the event and ofc the route', '149 Very organized event and what better way to to ride all the way round with all roads closed with beautiful sea view and mountains ', '150 Well organized at the start and finish  plenty water points  plenty marshals and medical staff', '151 Loved racing in the U race from Fish Hoek  ', '152 The great atmosphere ', '153 the vibe and well organised', '154 The scenery ', '155 how well its organized', '156 Pretty much everything', '157 Best scenic route worldwide', '158 AtmosphereRoad conditionsPlanningLogistics', '159 the energy the route riding on roads that are fully closed and the spectators', '160 The buildup to the event the atmosphere in the City before during and after', '161 It stays constant and is well organized  I also like the postcovid starting arrangements', '162 Superbly organized', '163 Well organized  spectators was amazing', '164 well organised race and a tough and fair route', '165 The atmosphere its a well organized race and having the km option to ride was pretty awesome Not easy but enjoyable ', '166 The outing ', '167 There is always a big VIBE at this race which nowadays is the only race I do but the best', '168 Well organized with fantastic communication before and after the event', '169 Everything', '170 Very well organised from the correspondence to the hospitality to the start and the actual race  very well run and super professional', '171 The new starting gates and the parking in parking areas other that at the stadium', '172 I got a good seeding so the race flowed nicely', '173 The atmosphere the superb organization the views around the Cape Peninsula', '174 spirit', '175 It was hard The wind gusts were meant for Elites ', '176 Freedom of using the road and the help and support along the route ', '177 The spirit of the race the organisation overall all world class', '178 The support and organisation Very good', '179 Everything', '180 fantastic organisation', '181 Very well organised and the scenery is just breath taking', '182 I could only so expo had flu ', '183 Closed roads', '184 Complete road closures', '185 noneture and the scenery', '186 The vibe', '187 There was not anything specificif I had to choose the VIP section for the start was okay', '188 The route', '189 Great Organizing', '190 Amazing atmosphere even after  toursstill enjoyable', '191 Great event as usual well organised ', '192 It is all ways well organized ', '193 Everything was perfect  the organization the communication the race support etc', '194 Socialising with newunknown cyclist ', '195 Very well organised', '196 well organized and mostly hassle free', '197 As always everything seems to run on time and seamlessly', '198 The scenery and well organised', '199 everything was slick', '200 Well organised and safe', '201 The whole event getting there the vibe the people rooting for you and just the privilege to cycle around one of the best if not the best routes in the world', '202 Its always well organized when it comes to the chutes Enough hydration given to all riders at the hydration points ', '203 Good organizing communication timeous correspondence etc etc', '204 most things', '205 The vibe and atmosphere', '206 The vibe and atmosphere', '207 The vibe well organised great route', '208 Everything ', '209 Stunning route and great cameraderie along the way', '210 The views', '211 The scenery of the ride to the organisation of the event extremely professional and well organised', '212 Welcoming atmosphere  Great weather  Magical route along  coastlines ', '213 The vibe the organisation Everything was world class', '214 Inclusive nature and fun vibe ', '215 Well organized event Km distances boards set up which is great Communication to the rider is very good and well in advance', '216 The route and water stations', '217 Administration processwater pointsroute', '218 Roads closed great aid stations', '219 Gees Beautiful route and superbly organized', '220 Organized safe scenic and well stocked waterpoints', '221 Everything just ran smoothly', '222 Great vibe well organised', '223 Well organised', '224 Well organized fantastic experience', '225 the gees', '226 The beautiful route ', '227 none', '228 Everything', '229 The route', '230 Very well organised The route is amazing Enough water points', '231 Well organised marshals at all strategic points great post event village', '232 Well organized and on time', '233 Nice to see increase in riders', '234 The start is very well organised', '235 Well organised', '236 I enjoyed everything Ive done it  times now and this was just as fun as before The vibe was great the organisation was good ', '237 The Vibe the unity of  cyclists taking over cape town and the beauty of the route', '238 very well organised', '239 none', '240 HOW WELL ORGANISED IT IS', '241 Fantastic arrangements at the starting point wonderful crowd support', '242 Extremely well organised  great route great vibe  Seeding works well  Highly recommended ', '243 The event and the vibe', '244 Great route well marshaled lots of waterpoints', '245 Well organized ', '246 So well organized ', '247 Well organised world class ', '248 Everything', '249 The masses of people all doing the same thing', '250 Cape TOwn', '251 Route nice and clean with great support along the way', '252 Everything was amazing ', '253 Energy', '254 Everything ', '255 Amazing route with fantastic views The organization was well done like a well oiled machine', '256 The vibe the waterpoints the views the experience Well organized event', '257 Organisation very slick friendly staff encouragement great vibe', '258 Well organised ', '259 The gees and the organization', '260 Great Vibe Well organized  Great sponsors Enjoyed the corporate hospitality area Was a great day all roundWell done to the organizers ', '261 The scenic route', '262 Everything but just how well it is organised I feel safe and happy', '263 Great atmosphere beautiful scenery', '264 Water points was nice route was nice with Marshalls and collecting race number was easy', '265 The orginisation of the entire ctct', '266 The beautiful views', '267 Organized and weather was good', '268 The excellent organisation ', '269 The buzz of all other cyclists', '270 The vibe', '271 The atmosphere', '272 The Ride is amazing', '273 none', '274 Wow So well organised Thank you to everyone involved I loved that water points were on every km Spectators supporting most on the route', '275 Everything  This has to be the best most scenic and well organized cycle race anywhere  Its the whole experience that has kept me coming back for the past  years', '276 I made it I wasnt sure if I would make it The supporters and the amazing scenery and overall spirit of the race pulled me to the end', '277 Well organised great communication', '278 Well organised', '279 none', '280 So well organized the route is the main attraction ', '281 Batch setup was great with porta loos No paper cups at water points was awesome Sufficient water points and physios around to help on the day', '282 none', '283 It run like a well operated machine The scenic views along the route the crowds the fun and the laughter along the route Always felt safe and medics all around I want to thank all the people involved in making this possible I am so proud to be South African ', '284 The atmosphere and the rush of the event The beautiful surroundings of Cape Town Its like enjoying a sightseeing while riding an amazing event ', '285 I enjoyed the route in all', '286 Well organized  ', '287 The scenery route ', '288 the spectators and the scenic ride ', '289 Love the narure and the familie vibe', '290 Planning ', '291 Everything was well organised Nice to have a permanent race number', '292 I loved the vibe and view', '293 Spectators  route', '294 Organization of the event', '295 Super well organized and an amazing vibes like always The route is just breattaking', '296 The route', '297 Well organized Great route ', '298 All round celebration of the western cape Love the route the atmosphere and the general efficiency of the event ', '299 That I was able to be part of a milestone of   riders', '300 I loved the camaraderie and it was very well organised on the whole', '301 Well organised', '302 Great organisation slick starting procedure and everything worked well on the day', '303 The organization is amazing the route is amazing and the spectators make it worthwile', '304 I thoroughly enjoyed the organisation right from the Registration process till the ice cold coke at the end', '305 Everything the Expo Especially the Soteria Stand  great initiative to improve cycle safety ', '306 Excellent support by organisers and public ', '307 The atmosphere', '308 Very good organised on time etc  very impressed', '309 Everything the views alles', '310 The whole vibe', '311 Road closures route organisation', '312 It was a good race', '313 Everything', '314 The atmosphere and the effort that has been put in The supporters were also nice ', '315 Route organisation crowd support', '316 Very well organized event', '317 well organised and a lovely atmosphere to the whole event', '318 The groups', '319 Very well organised', '320 the  spirit', '321 How well organised it was', '322 Well organised  informative  lots of energy', '323 The route ', '324 This is my nd time completing it and the staff of the event is professional as the first time Well organised', '325 Great atmosphere', '326 Having the whole road to ourselves to enjoy', '327 The atmosphere', '328 Closed roads', '329 The organization the vibe and the overall experience ', '330 Beautiful scenery and no cars on the road I mean how often can you ride these beautiful roads with no cars', '331 The comradery support from the fans and cocyclists Past performance means you get placed in a group of similar pace and experience this prevents accidents and i appreciate that ', '332 The scenery the excellent organization and the support', '333 TANDEM WITH DAUGHTER  BONDING ', '334 Starting chute layout was perfect Starting times when I started was perfectly on time Route clean marshals doing exactly what is expected from them Great bunches seeding with similar strength riders with before and after me', '335 The City and setting is amazing it was very well organised and just a total Buzz', '336 Proper support for all riders', '337 camaraderie ', '338 The accuracy of seeded bunches the spirit and support at water points the safety measures in place ', '339 none', '340 the crowds the weather the views the organisation', '341 Well organised event for mass participation', '342 The start was very well organizedWater point excellently managed The commentator and music great   ', '343 Organization and  planning ', '344 Atmosphere organization scenery and the entire event as a whole', '345 Awesome support throughout the whole race', '346 As always it was exceptionally well organised Thank you  Congratulations', '347 none', '348 Overall well organised', '349 The route Enthusiastic supporters', '350 The route is beautiful and the supporters are amazing', '351 Well organised with more than enough refreshment points en route Support vehicles were also plentiful', '352 Well organised beautiful scenery good roads', '353 Great atmosphere awesome scenery and very well organized', '354 well organised very fun easily accessible ', '355 Excellently organized every year Amazing staff and stations along the route ', '356 Everything Great organisation great vibe lovely course Overall a definite highlight', '357 Scenery ', '358 All went awesome', '359 Well organized Good gees from spectators Enough water holes Other riders were friendly and helpful', '360 Everything', '361 I loved cycling on roads without cars through beautiful scenery and happy people', '362 Good vibe Awesome music Beautiful road surfaces ', '363 Enough water stops', '364 The tradition', '365 The excitement upfront towards the race the start the fact there are no cars on the road', '366 The vibe and the views are incredible', '367 Well organised and streamlined', '368 Sense of camaraderie Spectacular scenery', '369 Everything it was my first participation', '370 the gees and people are always a vibe the organisation was amazing', '371 I used the water tables more than ever this year and they were fantastic   The number collection is also perfect better than any race i enter  I run the two ocean marathon and that is a disaster', '372 Well organised a good event', '373 Well organized Awesome vibe Amazing views ', '374 Perfect organisation helpfull volunteers beautiful kms', '375 Very well organized Good spirits', '376 Always great atmosphere ', '377 Very organised ', '378 Very organised ', '379 The organization ', '380 Having exclusive nocar access to the beautiful peninsula with support physical and emotional all along the way', '381 The spectators and how well organised the event was ', '382 It was an absolute blast being labeled with orange stickers for Ebikers is not nice', '383 Well organised and the beautiful course as well as the crowd support', '384 Spirit ', '385 The route of course', '386 Everything', '387 The vibe ', '388 All aspects of race are signs of well organized and planned', '389 Beautiful views super organised great vibes', '390 The Gees was amazing', '391 Excellent organisation beautiful route', '392 Organisation of safety and technology of tracking and timing whereby familyfriends could track me', '393 Energy and spirit of the support and riders  Spectacular event', '394 Well organised no issues', '395 Beautifully organized A wonderful race Thank you', '396 Good spacing for start groups great watering tables fun supporters as always and the route was well prepared beforehand so no nasty surprises on the road', '397 Spirit', '398 The gees Well organized', '399 Everything ', '400 km just the right distance for novices ', '401 It was well organised ample water points which helped a great deal', '402 Well organised great atmosphere ', '403 Vibe', '404 Like ir to do with my family', '405 Just very slick  from registration to the finish', '406 I enjoyed that we didnt have the mats going beep beep The start was a bit better than the  Enjoy the hopala', '407 we had the perfect day and the perfect organisation ', '408 Everything ', '409 Scenic views great organisation', '410 Very well arranged ', '411 The vibe amongst the riders', '412 The safety and support on the route', '413 Everything ', '414 group sizes app to track rider ', '415 none', '416 Really well organised', '417 Well organised ', '418 The people and the organisers of the event was good', '419 Big crowd and lots of water points', '420 The stadium parking worked very well this year', '421 Amazing Scenery and a really good vibe ', '422 World class organisation that thought of practically every aspect to enhance the pre ride ride and post ride experience Bravo', '423 Awesome ride and mostly well organised ', '424 supporters  refreshment stations ', '425 so well organised road closure excellent', '426 the routethe Southern Sun VIP tent was awesome ', '427 There is a lot to like the route stands out amongst all ', '428 Well organised ', '429 Well organized Fun timed event I like everything about the CTCT', '430 Like the view ', '431 The Cape Peninsula on a bike with no cars to avoidStunning route', '432 Extremely well organised', '433 Everything', '434 The vibes were good the expo was an improvement from the prior year', '435 The route and support', '436 just to ride on a full road closure', '437 The view of the route the organisation of the event as well as the spectators', '438 So much cyclists united', '439 EVERYTHING', '440 Support', '441 The waterstation at the bottom mid of suikerbossie was perfect Position and large water sachet while going slowly uphill Much better than having one at the top Thanks', '442 Well organized and scenery ', '443 The sense of community ', '444 CLEAN AND BEST ROADS', '445 It is beautiful ', '446 The people joining and the organizations', '447 well organized fantastic route and great atmosphere', '448 The very well organised event from picking up my race number to collecting my medal  very well planned and organised ', '449 Such a beautiful ride The overall even is organized so well and everything runs smoothly', '450 Everything ', '451 How many people were there the vibe ', '452 it was well organised with enough water points', '453 not one hitch from registration to crossing the line', '454 Beauty community and challenge', '455 The GEES It was my first one and WOW it was amazing Everything was so well organised and the amount of support we received from the people gave me all the motivation I need to finish Spectacular event ', '456 Well organized  views for days Great route', '457 Well organized', '458 The route is spectacular Please do not change it', '459 Everything The whole arrangment was super', '460 The vibe was great many people of all fitness levels competed in the race and many people dressed up which was so fun to see', '461 route views everything', '462 Most people knew we were from nonemibia  Cycling had the flag on the back and greeted me like hi welcome to cape town and that was very nice to be welcomed to CPT and the CTCT The new timing chip was extra cool looked like you part of tour de France with the new race numbers and timing chip ', '463 Beautiful well organised challenging yet social', '464 Organisation  views and route  flow road closures  support all great  ', '465 The race was well organised especially race day', '466 THE GOODIE BAG WAS BETTER THAN LAST YEAR', '467 The atmosphere supporters riders organisation everything was amazing Thanks for your great job of organization', '468 Its always so very well organised  Wish you Like control the wind as well ', '469 Well organised and wonderfully executed ', '470 The scenery', '471 Everything good Its better road management for cyclists alsoie narrowing roads at top of a hill rather than at bottom on a corner', '472 So well organized and the ebike battery swap out was an amazing feature ', '473 Excellent organisation', '474 Well organised ', '475 The atmosphere The route and organization of the ride ', '476 The vibe of the city', '477 EXTREMELY well organized once again Thank you', '478 Well organised ', '479 Scenery friendliness people', '480 the vibe and excellent organisation', '481 The atmosphere  the route', '482 Well organized The entry the seeding is fair and the collection seamless with no long ques Best venue to conduct expo', '483 Such a well organised event Well done to all involved ', '484 It was well organized ', '485 The route was beautiful and everything was well organised ', '486 everything the water points and technical areas they constant development with the time chip my family being able to follow my progress through the tour', '487 On the day the organisation was fab Race infoprep was next level', '488 I love that the roads are closed the beauty of Cape Town on a bicycle is breathtaking', '489 The views and the energy of the spectators', '490 people', '491 I loved the support from locals the fact that there were no cars on the road and a big highlight  the ice that was available at drink stands ', '492 atmosphere and planning absolutely amazing ', '493 The Scenery', '494 It wasnt as tough as I was expecting My first one Really just enjoyed it', '495 All the music stops and people cheering Super nice water stops', '496 Well organised Riders were considerate Roads were super clean no littering ', '497 The Cape Town people coming out to support the cyclists ', '498 Communication and safety', '499 The event was exceptionally well organized', '500 Expo well organisedGood comms leading up to the eventPlenty of well stocked waterpoints', '501 the vibe', '502 The vibe of the event was as usual very good Thoroughly enjoyed my day out', '503 none', '504 WAS A EXPERIENCE YOU CANT DESCRIBE TO SOMEONE THAT WAS NOT THEREIT IS REALLY OUT OF THE WORLD', '505 Scenery spectator parties etc', '506 Everything Its back to its best ', '507 Well organised and ordered start ', '508 Its always a wonderful wonderful day', '509 Everything from the people cheering you on and even the suffering km first time rider  The only thing i am not happy about is the fact that they started us late and then I missed the nd cut off with one minute  I really thought the officials would of given us that min extra  While saying this i really need a lot more practice but it would of meant the world to me  even if I came last to complete it   ', '510 Well organised and not complicated to start', '511 The diversity of rides and superb organisation of the event', '512 Everything aside from the start', '513 Scenic views  route spectators and all the participants encouragement on the route', '514 Great communication Well organizedScenery ', '515 Crowds and Support', '516 Well planned event', '517 Well planned event', '518 the overall organisation and dedication of the team to once again hold the event', '519 Very well organised The route is just phenomenal  Ive done it  times now and each time I love the view all over again', '520 It was well organized and everything was on time My family that watched me was also well updated the whole time', '521 The challenge of cycling for so long the views ', '522 good weather', '523 Beautiful  scenery Well organised Friendly attitudes Well documented and understandable', '524 The whole vibe was great', '525 The spectators and energy ', '526 Excellent organisation and the hospitality area with the food and drinks was incredible no ques and high quality food', '527 It was so well organised and everything worked The real time updated to people following is fantastic ', '528 Everything', '529 well organized', '530 It was brilliantly organised plenty of marshals first aid etc and what a VIBE it was so much fun  ', '531 Saftey and the overall event organization ', '532 The vibe the good organizing ', '533 It was extremely well organised great communication I particularly liked the new live timing mechanism And it was great fun too ', '534 The view', '535 Overall the scenery and course are great the atmosphere on route is fun and makes for a great event wether racing or just riding', '536 I liked the enthusiasm of everyone involved everyone helping at the expo or on the Sunday on race day was smiling and happy to help ', '537 The atmosphere was great especially with tired legs at Suikerbossie The road side supporters was awesome', '538 The expo was good and the route was beautiful', '539 It is always a great vibe before and during the race', '540 Very high quality race organisation and communication The full road closure and route scenery are incredible An amazing morning of riding and racing', '541 The organisation and the crowd support', '542 The friendliness of everyone taking part and all the crowds on the route', '543 Well organised love the vibe of the event', '544 The route and scenery Organisation was top notch ', '545 The support along the entire route and the particularly the assistance provided at the waterstops by the volunteers', '546 the spectators were amazing as always', '547 Organizing of the event support next to the roadsetc', '548 Weather gees everything ', '549 It was my first one so basically everything What stood out for me was the supporters cheering for riders and the quality of the roads on the route', '550 AWAYS GOOD AND FULL OF GEES', '551 The scenic Route The fact that there were porter loos in the start chutes', '552 Scenery and planning of the event ', '553 Organised well', '554 The support the route and the great exhibition', '555 Well organised clear instructions easy number collection and clearly marked starting area', '556 The route is stunning supporters amazing and the marshalls and aid stations were fantastic', '557 The atmosphere and the weather', '558 Seamless effort to do what I needed to do with lots of OEM on site to promote products I needed ', '559 The vibe atmosphere and the beautiful route Overall its a well organised event but see comment at  below  ', '560 The organisation was great as usual You do this with perfection And the spectators along the road are fantastic too we love Capetown for this spirit and one really should always give credit to all these people who also sacrifice something by not being able to move freely due to the road closures', '561 Good route well organised', '562 Loved the starting batches was an amazing route and there was a great general vibe around the event', '563 Well organised Expo fantastic  Race day access and parking was easy and the experience was awesome', '564 Vibe', '565 The gees was top notchThe aid stations were top notch', '566 Ladies race was well organised great to have the roads to ourselves and could see a lot of thought had gone into rider safety ', '567 the overall experience', '568 Legacy tradition scenery vibeHonestly a classic', '569 Beautiful route scenery and gees', '570 organisation is tops', '571 Easy safe and fun Well administered ', '572 The views and the well organised nature of the event The water stops were well managed', '573 Well organized ', '574 The wonderful atmosphere the view and the love ', '575 This was my first attempt and I was impressed how wellorganised the event is I appreciated the water points every km We promptly took off at the allocated time am and there were no delays', '576 This was my first attempt and I was impressed how wellorganised the event is I appreciated the water points every km We promptly took off at the allocated time am and there were no delays', '577 Safety and organised', '578 Always a nice race and excellent vibe and views', '579 This year the start was way better controlled  last year it was mayhem and everyone was stampeding through this year it was closely monitored and we werent in a rush of people all falling off their bikes because they were crammed up like sardines  also this year I was a PPA Member and they kindly allowed me to start earlier at h which made such a difference to me ', '580 Vibe ', '581 Well organised water points were well stocked riders were well behaved weather was fantastic', '582 The start all the refreshment stations spectators supporters music medals etc ', '583 The organisation and onroute rider support the absolutely stunning landscapes throughout the route and most importantly the community road side support and gees', '584 The tour was well organized easy to understand where to go and closure of the roads', '585 The best scenery along the route arguably in the world', '586 Well organized great route', '587 the road closure  the vibe and the choice of distance', '588 The event was fun and the people were friendly Cant wait to do it again next year', '589 seamless organization thankyou not a lot negative to sayfound all levels of support fantastic', '590 Crowd support is back to almost pre covid levels', '591 The ride', '592 The organisation was great and the route felt very safe', '593 Great route and organising', '594 Organized well structured great support', '595 Very well organised  Scenery is also the best', '596 everything', '597 I loved how organized it was and how much support we had from start to finish it was absolutely amazing', '598 The magnitude of how big it is but yet so well planned and amazing support of South African people as you ride the beautiful coast ', '599 Beautiful route great supporters amazing vibe', '600 Very well organised', '601 Every was well organised ', '602 The views', '603 The vibe from start to finish', '604 The route is awesome ', '605 Very well organised refreshment stations well positioned easy registration with a good show', '606 Closed roads ', '607 none', '608 The great orginisation of the whole event', '609 Organization and spirit along the way', '610 The full road closure and checks in place to make sure riders start with the correct batches and do not cheat they system ', '611 Everything', '612 on time support excellent along the route', '613 Perfect Organising', '614 Scenery mostly', '615 Amazing venue CT is awesome', '616 ORGANISATION', '617 Everything', '618 Fantastically planned I appreciate the effort folks put into making sure the event moves forward smoothly ThanksAlso the SportSplits Tracker app was a big bonus', '619 Full road closure for the event to enjoy the Cape Peninsula Lions Club Marshalls at start and finish are amazing', '620 Organization both pre  post', '621 The GEES Always an awesome Vibe and the event is so good organised Thanks CTCT', '622 The views and the hills', '623 Everything was amazing ', '624 Beautiful scenery', '625 I do it each year for charityand thevpeople and the vibe is just awesome', '626 The route the support and the organisation is all great', '627 Top notch organization and the route', '628 It was very well organised but mostly it was the amazing vibe and environment So much public support as well Loved it ', '629 The landscape', '630 I loved seeing cape town on a bicycle without the traffic worries', '631 The co operation of everyone involved', '632 Everything Well organised Great to participate', '633 The organization ', '634 Everything was great The organized bike park and beer tent was my highlight', '635 Uninterrupted cycle round the peninsula', '636 It was very well organized', '637 As an international rider I love the environment the view the enthusiasm of people cheering along the route It is unlike any other event ive part taken inRegistration form  is already done that should say enough ', '638 Watching Jefreys fly down the M', '639 well organized even with late entry still full support thank you', '640 Well organized ', '641 The vibe and scenery ', '642 The great organisation The supporters The weather Very well run ', '643 The Event was well run before the race and from the start The marshalling was good and crowd control was excellent ', '644 Puik georganiseerd en baie veilig', '645 Vibe at waterpoints Organisation of starting shoot super good Weather ', '646 Organization fun and comrade riders ', '647 Loved it as usual Just did not like the wind', '648 Crowds Arrangement Technical Support', '649 none', '650 I loved everything about CTCT It was my first cycle tour and the ride and the vibe was just incredible', '651 The atmosphere on the day The support on the road and the build up to the day', '652 No cars and scenery', '653 The vibe', '654 The route', '655 The route the smooth organization and water point spacing', '656 Well organized Great route', '657 Very well organized  ', '658 Well organized good water tables', '659 status and international event', '660 Riding the empty roads of the peninsula the views the great atmosphere the national anthem in the morning crossing the finish line in my goal time  all the training leading up to the event what a vibe', '661 We got on to the road on time and everything else was done perfectly  ', '662 Well organised Spectacular route', '663 No red lights stop streets or cars to worry about', '664 Definitely the scenery and the whole vibe around it  The supporters were great', '665 The organising and atmosphere', '666 The organising and atmosphere', '667 Greatest Bicycle race in the world Great hanging around Cape Town', '668 Perfect weather Perfect Organization', '669 Everything', '670 Closed roads great vibe and atmosphere well organised no problems at all', '671 Clear instructions fantastic organisation', '672 Preparation and execution ', '673 The complete experience as always', '674 The event itself', '675 Enough water points', '676 Smooth start', '677 The  the nunber of refreshment stops', '678 well organised event that ran like clockwork', '679 The event organization  well marshalled and great to have full road closure', '680 The route', '681 The organization and vibe along the route but also the finish area', '682 The route is scenic and all the gees between the towns are great', '683 Everything bar the wind But it is Cape Town after all so cant hold that against the CTCT', '684 Well organized Quick and easy registration Beautiful route ', '685 Well organised and great support along the road', '686 Organised and lots of fun', '687 Refreshments points we scattered well', '688 Well organised', '689 The weather was great ', '690 It was an extremely enjoyable and memorable race One of the most beautiful races on the calendar with an amazing vibe on the road both from the other riders and the community and spectators', '691 The organization of it all was amazing', '692 The expo the start and the tent after the race ', '693 The gees The support and the new timing system ', '694 It is always better than the previous year I enjoyed the beers at the end', '695 Everything', '696 I liked the new timing system and the fact that family can track my progress', '697 the orginization was excellent the camaraderie between all competitors', '698 The sense of community it was my first race Friendly atmosphere', '699 The route the goody bags the incredible organisation everything Thank you And well done on the reduction of singleuse cups at the water points', '700 Relaxed Carnival Atmosphere', '701 The atmosphere', '702 Organisation', '703 Very well organized', '704 The organisation water points and gees', '705 To ride with friends ', '706 always well organized this year felt safer than the previous years i saw less crashes', '707 Organization energy and incredible route', '708 Loved the hole Race everything from start to finish ', '709 The energy of the crowd and spectators is contagious ', '710 The energy of the crowd and spectators is contagious ', '711 Everything', '712 The event is well organized and the communication is excellent The buzz from spectators on the road is tremendous', '713 Beautiful good roads friendly well supported inclusive well organised', '714 The organising', '715 The atmosphere the route the well organised event the cycling app and offcourse the registration', '716 THE VIEWS AND THE OTHER RIDERS SPIRITTHE SUPPORT WAS AGAIN UNBELIEVABLE FROM THE WATER POINTS AND THE SPECTATORS', '717 well organised  volunteers with great mindset', '718 Everthing and the vibe and great arrangements ', '719 Slick easy flow to the start line more emphasis given to the batch start as opposed to previous few years where one felt they  just rode over the start line Excellent water tables friendly marshalls as always Couldnt fault a thing', '720 The route people  organization service ', '721 Well organized', '722 Spirit and most organisation', '723 To be able to ride the beautiful route and see the scenery with other cyclists and without cars', '724 i like all and the people on the street are the best', '725 full road closure ', '726 Well organised', '727 The day was amazing and the energy of the race as well ', '728 I enjoy the buzz and excitement of the day', '729 THE ENTIRE EVENT AND SETTING WAS WORLD CLASS', '730 Big party on the roads many people cheering on the streets', '731 I like the overall support and vibe', '732 Well organized and beautiful scenery ', '733 none', '734 Safe organisation ', '735 Scenery and complete Gees', '736 the amount of support and the vibes along the course and the amount of support the crew gave after the race when I had a cramp after the race', '737 Well organised and the complete vibe along the way', '738 Very well organised Beautiful scenery and the best route in the world', '739 The quality of the roads the route the views the provision of support refreshments physio repairs and general atmosphere and public participation', '740 The gees', '741 The vibe on the route', '742 Well organised and the weather was fairly good except for the wind', '743 Very well organized Quick response at the water points Beautiful Scenery', '744 well organised and the spirit', '745 Well organised', '746 Great organisation ', '747 Great first experience ', '748 Well organized Such an incredible event', '749 Vibe friendships', '750 Atmosphere and culture', '751 As always  The Vibe The People The Support Its never an easy cycle for me but like dad always says It never gets easier You can just go further', '752 The vibe of the teams on the road The improvement of the finish expo beerfinish area', '753 Atmosphere and stunning route', '754 Well organized and the mass participation new timing chips with live updates', '755 Excellent organization', '756 Riding without cars', '757 Well organized  Scenic route', '758 The logistics and support for the event', '759 EverythingBeautiful race and amazing scenesThe organisation was exceptional', '760 Tha atmosphere and camaraderie of all the participants', '761 The friendliness and the smooth start', '762 Route and spectators', '763 The entire event was incredible every aspect of the race worked like clock The organization was next level The expo the start the water points the cleanliness of the route the finish the absolute ease of the entire process made the race incredible', '764 The gees ', '765 The event was very well organised ', '766 Atmosphere scenery etc', '767 Route organisation and Cape Town', '768 The atmosphere and the route', '769 The route the scenery the atmosphere Well organised race', '770 The cycling and scenery ', '771 The organisation is superb  collecting the race pack is incredibly easy every year I feel safe the entire route there are sufficient stations to top up drinks', '772 Fun and well organised', '773 Smooth transition between starting groups and management of riders on the road', '774 Just completed my st consecutive tour love the gees after all its the WORLD CHAMPS everything just works its safe', '775 Organisation was great route was clearly marked and the support was fantastic as always', '776 Exceptionally well organised', '777 It was my st CTCT I really enjoyed the Vibe and the gees along the way I now know why the call it the most beautiful race in the world ', '778 The views are stunning the event is completely professional and safety is taken very seriously', '779 The atmosphere and experience ', '780 The supporters And a beautiful trail', '781 Everything the vibe the emotions I felt before and during the race many refreshment points during the course the scenery the supporters along the course ', '782 Everything was great lekker gees', '783 The route was beautiful The roadside assistance was excellent ', '784 Very well organized', '785 everything was good', '786 The atmosphere was amazing well organised event lots of refreshment stations ', '787 general knowledge as its a must do event  years for me now Hoooopla ', '788 The event is sooo well organised and the arrangement is well informative on time I never struggled with anything even at number collections  There were not even long ques at collection  The expo has everything you conveniently need at reasonable prices', '789 The excellent organisation the unbelievable route and the spirit of both the riders and spectators ', '790 The event was well organized', '791 Everything ', '792 Beautiful city and surrounding areas Well organised and completely blocked roads', '793 Officials were focused Safety was a clear priority ', '794 As on the last seven times that i have done the Tour everything is just perfect', '795 The spirit and the build up', '796 The whole event is very well organised They view was stunning', '797 The route the supporters and the ride', '798 Well organized love the scenery Easy to get to the the event and to leave The water stops', '799 Organization', '800 Spectator route experience', '801 Well marshalled sufficient rehydration points', '802 the vibe and the scenery', '803 Well organized with loads of GEES', '804 Comrade ', '805 Well organised and roadside vibe Beer tent with Dan playing good music', '806 THE TRIP', '807 Awesome experience atmosphere ', '808 Everything', '809 The entire experience ', '810 The set up was amazing They vibe and the organising was really well done ', '811 none', '812 Being able to race such an iconic race  in such fabulous settings', '813 WELL PLANNED AND ORGINIZED ', '814 none', '815 none', '816 This event is so well organised I felt very safe', '817 The atmosphere and camaraderie was great Organization was very good ', '818 Well organised  to the point well done', '819 All the water points friendly staff and spectators', '820 Well organise  Medical staff and marshalls throughout the race visible ', '821 The camaraderie amongst riders', '822 I love the spectators along the route  And obviously the views  Also great Expo', '823 Expert organisation from start to finish', '824 Well organised Good support structure', '825 I like how organized it is especially the startAnd as always the support of the spectators and Marshalls along the routewell done to all', '826 The view by Chapmans peak ', '827 Well run Full road closure Loved the vibe', '828 Expo  registration was helpful', '829 Good organisation stunning location and route', '830 Beautiful route Great support along the way', '831 It was really well organised This was the second one I have done and I just really enjoy how smoothly everything works taking into account the number of cyclists that attend this amazing race', '832 Well organized ', '833 The location of the start', '834 Exceptional organizationweel done to all involved ', '835 The prerace communication was excellent the registration was seamless the expo was great the organisation at the start was faultless from where we were The support and stands along the way were also friendly fun  added to the spirit of the whole day', '836 Lots of water pointsWell managed startGood medical  technical supportSeemless entry process', '837 Knowledge about how far still to go  Cleanliness friendliness  views ', '838 It has green its numbers and is great for CT economy  ', '839 The scenic ride and atmosphere', '840 Impeccably organised Just loved having all that road to us ', '841 Start on time lots of water points  toilets  thanks ', '842 Awesome medical teams spirit is high and event is safe', '843 Vibe  logistics were tops with ALL marshals waterpointers all friendly  so encouraging', '844 Very well organised and plenty of assistance around the course', '845 Well organised and amazing route', '846 Well organized  is all about the cyclists taking ver CT  for a couple of days', '847 The music next  to the road', '848 The scenic route and the dedicated race support crew', '849 feeling atmosphere and support', '850 The cycling and the down hills', '851 Route and efficient start', '852 Extremely well planned except for the medal issue of course Thousands of people riding and you do not feel the congestion Aid stations are great help everywhere Incredible planning', '853 Very good organisation and communication ', '854 The entire organizationadmin was perfect ', '855 The entire organizationadmin was perfect ', '856 Great organisation on the officials parts Refreshment stations were well stocked The best part was being able to participate  having the roads completely to ourselves Roads were clean and clear of debris Route was well controlled', '857 The crowd  the people The vibe', '858 The organization friendly people great weather and my finishing time ', '859 everything was perfect ', '860 I liked the whole experience I thought the expo was really good too', '861 Everything ', '862 I love everything about this event The organization the scenery the way the people of Cape Towm come out to support the riders is incredible ', '863 The classic km route is spectacular I love that the roads are closed and get to experience Cape Town on a bike The vibe of the spectators is awesome ', '864 The atmosphere comradie excitement of all role players and fans vibe and spirit', '865 The super efficient race organization from the CTCT team', '866 none', '867 The support from members of the public along the route ', '868 Great ride and atmosphere ', '869 Fans and waterpoints', '870 Clear indication of starting blocks and which batch were loading', '871 So well organised information well communicated Thank you ', '872 Great vibeWell organizedEasy access to starting pointEasy to collect medal  coke  ', '873 It still is a very good organized event', '874 Lots of people open roads expo', '875 Everything is very well organised from a logistics point of view as well from the registration until the race itself ', '876 The ride', '877 The scenic route community spirit and a challenge race', '878 IT WAS VERY WELL ORGANISED AND COORDInoneTED tHE SCENERY WAS EPIC A TRULLY ENJOYABLE EXPERIENCE', '879 The amazing organisation and friendly marshals ', '880 Very well organised Great event', '881 Total experience', '882 The organisation is great Runs almost seamlessly ', '883 It was very organised ', '884 The vibe', '885 the route and the atmosphere', '886 Beautiful route', '887 Everything ', '888 The smooth operation in every area', '889 The tracking App was excellent', '890 well organised as usual', '891 its was so much fun to complete for cancer My father is a cancer survivor and this year him and i were able to cycle to create awareness for many cancer survivors out there ', '892 Road management and marshalling excellentStart was good ', '893 Well organised', '894 well organized ease of making a registration switch the weather', '895 Whole organisation the crowds and support and the Sani ice water plastics on Suikkerbossie  Your marshals and helpers were incredible all smiling no matter what time of day', '896 none', '897 The organization and it was fun', '898 everything Superbly organised and supported', '899 The ocean ', '900 Well organized ', '901 Well organised and excellent communication before handI was unlucky enough to have two punctures so found myself totally alone at about pm just after Newlands Forest where the second puncture occurred it seemed as it everyone was packing up and removing the cones etc Suddenly a motorcyclist appeared next to me and reassured me I had enough time and she would accompany me into the end of the race It was a wonderful gesture and I enjoyed being escorted into town   I would like to thank this official on the motor cycle if that is possible', '902 Organized good communication and lots of water points', '903 well organised Amazing community spirit ', '904 It is an iconic event Always good to clock up another loop of Cape Town', '905 The overall organisation', '906 Organisation good spirit out on the road', '907 YES', '908 Fantastic organisation', '909 Positive Spirit', '910 Being allowed to ride an Ebike My medical situation preludes me completing the long course on a road bike at present', '911 well organised throughout good people as always great support by marshalls and water points beautiful route as always', '912 Well planned and organised event Eveyrthing just works', '913 The weather  the views often the vibe', '914 THE MOST ENJOYABLE RIDE THE SUPPORT AND THE SPECTACULAR VIEWS', '915 memorable my th One', '916 WELL ORGANIZED', '917 The vibe', '918 The atmosphere and the organisation of the event is phenomenal considering the volume of people taking part ', '919 The starting procedure is great Loved the sachet hydration at Suikerbossie especially for the faster groups ', '920 Super well organised wind not too bad outside of your control but still a factor in ones enjoyment great race village Just a really enjoyable day and ride', '921 Organistion was generally very good ', '922 As I have done  tours the atmosphere is the best this year took it very slow to enjoy the full tour and the fact that you could take a beer out of the beer tent to enjoy it outside of the beer tent', '923 The vibe for sure ', '924 Again one of the best experiences participating in the Cycle Tour The Cycle tour remains a wellorganized and planned event  I like the new timing board  ', '925 To finish', '926 The atmosphere created by the people', '927 Organized the route is always a stunner support ', '928 Everything Very well organized Great marshalling Perfect weather ', '929 Vibe felt better than the last couple of years Back to PreCOVID fun Also felt like ebikes were handled better this year  did not have any close calls like last year with ebikes flying by on the hills', '930 I just live everything about it  Your volunteers are world class', '931 Just an awesome ride well organized and a great experience', '932 Always incredibly well organized from the registration to race day', '933 The route ', '934 The route', '935 The vibe the supporters and the good organisation At no point I felt like I was not supported by the CTCT team The start also works great', '936 Everything The punctuality of the start etc', '937 Slick organization', '938 The route', '939 Stunning route and scenery', '940 Well organizedThe wonderful vibe throughout the route Well organized starting shoots ', '941 Every part of the event was well thought through and at no point felt that something was amiss ', '942 The vibes as always but the refreshment stands were well manned this year', '943 Great fun and being part of one of the biggest races in South Africa', '944 Community ', '945 Organization was excellent seamless', '946 Great collaboration by service providers ', '947 Always a great well organized event', '948 always the good spirit', '949 very organised and very safe', '950 Organization Beautiful scenery Camaraderie of participants Ebike option', '951 Organization', '952 The organisation start chutes were easy to access  All went smoothly', '953 The gees well organize beautiful city friendly staff ', '954 the route', '955 Weather', '956 Atmosphere Scenery  organisation ', '957 the vibes the fact that we could ride where we usually cant due to cars and safety in numbers', '958 Full road closure ', '959 That there was food stalls and a beers tent one could mingle with friends and other riders', '960 CTCT has to be one of the most well organised events that I have ever participated in I liked the entire experience from registration to finish I will certainly be back', '961 Organization met expectations in terms of accessibility from The Expo right till the Finish line', '962 Great experience lekker gees', '963 The well organized start and the water tables along the route were perfectly spaced out', '964 It is doable for everyone old young fat or thin It is a wonderful family event', '965 Atmosphere ', '966 I wanted to take a moment to share my aweinspiring experience participating in the km Cape Town Cycle Tour It was not just a race it was an unforgettable journey that allowed me to witness the beauty of Cape Town and South Africa from an entirely new perspectiveAs I pedaled through the course I was treated to panoramic views of Cape Towns stunning landscapes from its bustling cityscape to its majestic mountains and breathtaking coastline Each pedal stroke unveiled a new facet of this vibrant nation showcasing its diversity and charmOne of the most remarkable aspects of the race was the opportunity to traverse a variety of terrains from quiet culdesacs to vibrant townships challenging mountains to bustling city streets It was a testament to the rich tapestry of South African life encapsulating the essence of what makes this nation so extraordinaryFor me this was my inaugural cycle event and I can say without hesitation that it wont be my last The Cape Town Cycle Tour has left an indelible mark on me igniting a passion for cycling and a deep appreciation for the beauty of South AfricaI want to extend a heartfelt thank you to everyone involved in making this event possible from the organizers to the volunteers who tirelessly supported us along the way A special mention goes to the physios stationed on the sidelines whose expertise and care were instrumental in helping me through the challenges of the raceIn conclusion the Cape Town Cycle Tour was more than just a race it was a transformative experience that allowed me to connect with the soul of South Africa I eagerly anticipate returning next year to relive the magic once againPedal on', '967 Atmosphere and challange', '968 vibe atmosphere beautiful scenery well organized start ample entertainment at finish', '969 Well organised and great vibe', '970 Well organised safe to do being part of so many able and special needs people that participate on the day Will remain very special to me at all times', '971 Well organised from beginning to end and great fun as always', '972 I enjoyed the whole vide of the event It was very well organised', '973 The organisation the ambiance the perfection with which all things and routes are managed Safety is always key for me and I felt safe throughout the event', '974 The organisation great as always ', '975 everything after all it was my st', '976 Everything It was amazing I have not ridden the tour since  and I loved every minute of it Of course when I rode I was a young girl LeeAnne Dunmore', '977 ALLES PERFECT ', '978 The organisation was fantastic From the registration to the cycle', '979 People and route', '980 Organisation from start to finish', '981 Everything', '982 I like the route along the coast line the professional organisazation before and during the race I started exactly the time as foreseen the support along the race I needed twice physio at Suikerbossie the atmosphere with the spectators along the route and at least the noice in social media  my participation it was in  and maybe not my last ', '983 I love the local support the hype the scenery and the level of preparedness from the city', '984 Refreshment stations were all well manned Marshaling was top notch', '985 WELL ORGANISED RACE AND GREAT ROUTE', '986 well organized  great scenery', '987 Well organised at starting chutes and great  plentywatering points', '988 WELL ORGANISED', '989 As a firsttime participant in the cycle tour I found the day to be mesmerizing exciting and exhilarating It has always part of my bucket list to someday partake in this event and this year I was able to relies by dream at the age of  The event was well organized and I thoroughly enjoyed the experience    ', '990 Well organised as always', '991 Very Well planned Great atmosphere ', '992 The music and spectators', '993 The scenic beauty the good planning and management no chaos starting and finishing the good atmosphere and support along the way', '994 Everything', '995 I love this event because cause of the route  plus I won', '996 Waterpoints', '997 Camaraderie inclusion organisation ', '998 The vibe The people also well organised ', '999 Atmosphere and routeApproved support']\n",
      "[(1, 'Well organized event with efficient logistics.'), (2, 'Spectacular scenic route around the Cape Peninsula.'), (3, 'Great atmosphere and camaraderie among participants.'), (4, 'Excellent support from spectators along the route.'), (5, 'Sufficient and well-placed water stations.'), (6, 'Smooth registration and number collection process.'), (7, 'Friendly and helpful marshals and volunteers.'), (8, 'Full road closures ensuring cyclist safety.'), (9, 'Positive energy and excitement from participants.'), (10, 'Improved timing system and tracking for participants.'), (11, 'Beautiful weather contributing to a great experience.'), (12, 'Community spirit and local support for the event.'), (13, 'Variety of cyclists participating, from novices to pros.'), (14, 'Festive atmosphere at the start and finish.'), (15, 'Challenging yet enjoyable course for all levels.'), (16, 'Great post-race celebrations and hospitality.'), (17, 'Increased public participation and enthusiasm.'), (18, 'Impressive organization for such a large event.'), (19, 'Encouraging and motivating environment throughout the race.'), (20, 'Overall memorable experience with beautiful views.')]\n"
     ]
    }
   ],
   "source": [
    "# ONESHOT\n",
    "working_data = all_data[:1000]\n",
    "working_txt_cols_to_classify = txt_cols_to_classify[0:1]\n",
    "response_list, classifications = None, None\n",
    "\n",
    "classifications = classify_text_column(\n",
    "    working_data,\n",
    "    working_txt_cols_to_classify,\n",
    ")\n",
    "\n",
    "#classifications\n",
    "working_data"
   ]
  },
  {
   "cell_type": "code",
   "execution_count": null,
   "metadata": {},
   "outputs": [],
   "source": []
  }
 ],
 "metadata": {
  "kernelspec": {
   "display_name": "transcriptions",
   "language": "python",
   "name": "python3"
  },
  "language_info": {
   "codemirror_mode": {
    "name": "ipython",
    "version": 3
   },
   "file_extension": ".py",
   "mimetype": "text/x-python",
   "name": "python",
   "nbconvert_exporter": "python",
   "pygments_lexer": "ipython3",
   "version": "3.12.1"
  }
 },
 "nbformat": 4,
 "nbformat_minor": 2
}
