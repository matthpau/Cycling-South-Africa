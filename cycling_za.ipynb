{
 "cells": [
  {
   "cell_type": "code",
   "execution_count": 1,
   "metadata": {},
   "outputs": [],
   "source": [
    "import pandas as pd\n",
    "from openai import OpenAI\n",
    "import os\n",
    "from dotenv import load_dotenv\n",
    "import json\n",
    "from pydantic import BaseModel"
   ]
  },
  {
   "cell_type": "code",
   "execution_count": 2,
   "metadata": {},
   "outputs": [
    {
     "data": {
      "text/plain": [
       "True"
      ]
     },
     "execution_count": 2,
     "metadata": {},
     "output_type": "execute_result"
    }
   ],
   "source": [
    "from os.path import expanduser\n",
    "load_dotenv(os.path.join(expanduser(\"~\"), \".env\"))"
   ]
  },
  {
   "cell_type": "code",
   "execution_count": 3,
   "metadata": {},
   "outputs": [],
   "source": [
    "client = OpenAI(\n",
    "    # defaults to os.environ.get(\"OPENAI_API_KEY\")\n",
    "    api_key=os.getenv(\"OPENAI_API_KEY\"),\n",
    ")"
   ]
  },
  {
   "cell_type": "code",
   "execution_count": 4,
   "metadata": {},
   "outputs": [],
   "source": [
    "data_file = \"data_input.xlsx\"\n",
    "times = pd.read_excel(data_file, sheet_name=\"Data\", index_col=\"ID\")\n",
    "demog = pd.read_excel(data_file, sheet_name=\"Demographic\")"
   ]
  },
  {
   "cell_type": "code",
   "execution_count": 7,
   "metadata": {},
   "outputs": [],
   "source": [
    "times.columns  = [\n",
    "    \"start_time\",\n",
    "    \"completion_time\",\n",
    "    \"star_rating\",\n",
    "    \"txt_what_liked\",\n",
    "    \"txt_what_not_liked\",\n",
    "    \"txt_do_to_improve\",\n",
    "    \"txt_anything_else\",\n",
    "    \"recommend_likelihood\",\n",
    "    \"ref_num\",\n",
    "    \"person_id\",\n",
    "    \"start_group\",\n",
    "    \"gender\",\n",
    "    \"age_group\",\n",
    "    \"country\",\n",
    "    \"province\",\n",
    "    \"number_finished\",\n",
    "    \"reg_day\",\n",
    "    \"reg_hour\",\n",
    "    \"PPA\",\n",
    "    \"has_result\",\n",
    "]\n",
    "\n",
    "demog.columns = [\n",
    "    \"person_id\",\n",
    "    \"start_group\",\n",
    "    \"gender\",\n",
    "    \"age_group\",\n",
    "    \"country\",\n",
    "    \"province\",\n",
    "    \"number_finished\",\n",
    "    \"reg_day\",\n",
    "    \"reg_hour\",\n",
    "    \"PPA\",\n",
    "    \"has_result\",\n",
    "]"
   ]
  },
  {
   "cell_type": "code",
   "execution_count": 8,
   "metadata": {},
   "outputs": [],
   "source": [
    "all_data = pd.merge(\n",
    "    times, demog, on=\"person_id\", how=\"left\", suffixes=(None, \"_demog\")\n",
    ").convert_dtypes()\n",
    "\n",
    "all_data.drop(\n",
    "    columns=[\n",
    "        \"start_group\",\n",
    "        \"gender\",\n",
    "        \"age_group\",\n",
    "        \"country\",\n",
    "        \"province\",\n",
    "        \"number_finished\",\n",
    "        \"reg_day\",\n",
    "        \"reg_hour\",\n",
    "        \"PPA\",\n",
    "        \"has_result\",\n",
    "    ],\n",
    "    inplace=True,\n",
    ")"
   ]
  },
  {
   "cell_type": "code",
   "execution_count": 9,
   "metadata": {},
   "outputs": [],
   "source": [
    "all_data = all_data.astype({\n",
    "    \"start_group_demog\":\"category\",\n",
    "    \"gender_demog\": \"category\",\n",
    "    \"age_group_demog\": \"category\",\n",
    "    \"country_demog\":\"category\",\n",
    "    \"province_demog\": \"category\"\n",
    "    }\n",
    "    )"
   ]
  },
  {
   "cell_type": "code",
   "execution_count": 10,
   "metadata": {},
   "outputs": [
    {
     "data": {
      "text/html": [
       "<div>\n",
       "<style scoped>\n",
       "    .dataframe tbody tr th:only-of-type {\n",
       "        vertical-align: middle;\n",
       "    }\n",
       "\n",
       "    .dataframe tbody tr th {\n",
       "        vertical-align: top;\n",
       "    }\n",
       "\n",
       "    .dataframe thead th {\n",
       "        text-align: right;\n",
       "    }\n",
       "</style>\n",
       "<table border=\"1\" class=\"dataframe\">\n",
       "  <thead>\n",
       "    <tr style=\"text-align: right;\">\n",
       "      <th></th>\n",
       "      <th>txt_what_liked</th>\n",
       "      <th>txt_what_not_liked</th>\n",
       "      <th>txt_do_to_improve</th>\n",
       "      <th>txt_anything_else</th>\n",
       "    </tr>\n",
       "  </thead>\n",
       "  <tbody>\n",
       "    <tr>\n",
       "      <th>0</th>\n",
       "      <td>no answer given</td>\n",
       "      <td>no answer given</td>\n",
       "      <td>no answer given</td>\n",
       "      <td>no answer given</td>\n",
       "    </tr>\n",
       "    <tr>\n",
       "      <th>1</th>\n",
       "      <td>The Team who organise it!</td>\n",
       "      <td>Nothing comes to mind</td>\n",
       "      <td>Alp du Hez experience at the top of Alp du Sui...</td>\n",
       "      <td>brilliant!</td>\n",
       "    </tr>\n",
       "    <tr>\n",
       "      <th>2</th>\n",
       "      <td>well organised, great helpers</td>\n",
       "      <td>start a little too late</td>\n",
       "      <td>start earlier</td>\n",
       "      <td>much better than 109KM's</td>\n",
       "    </tr>\n",
       "    <tr>\n",
       "      <th>3</th>\n",
       "      <td>Road closures</td>\n",
       "      <td>It is getting dangerous with larger groups.</td>\n",
       "      <td>Rider safety in large groups.</td>\n",
       "      <td>Nope</td>\n",
       "    </tr>\n",
       "    <tr>\n",
       "      <th>4</th>\n",
       "      <td>Well organized event and great route</td>\n",
       "      <td>Think it’s starting to get quite pricey</td>\n",
       "      <td>N/a</td>\n",
       "      <td>N/a</td>\n",
       "    </tr>\n",
       "    <tr>\n",
       "      <th>5</th>\n",
       "      <td>no answer given</td>\n",
       "      <td>no answer given</td>\n",
       "      <td>no answer given</td>\n",
       "      <td>no answer given</td>\n",
       "    </tr>\n",
       "    <tr>\n",
       "      <th>6</th>\n",
       "      <td>Awesome scenery, closed roads, excellent \"gees\"!</td>\n",
       "      <td>I was under-prepared!</td>\n",
       "      <td>I missed the presence of the big cycling store...</td>\n",
       "      <td>Most enjoyable, as always!</td>\n",
       "    </tr>\n",
       "    <tr>\n",
       "      <th>7</th>\n",
       "      <td>no answer given</td>\n",
       "      <td>Just didnt feel it was quite up to your normal...</td>\n",
       "      <td>no answer given</td>\n",
       "      <td>no answer given</td>\n",
       "    </tr>\n",
       "    <tr>\n",
       "      <th>8</th>\n",
       "      <td>Full road closure</td>\n",
       "      <td>Some crazy cyclists making is a bit unsafe</td>\n",
       "      <td>Not sure</td>\n",
       "      <td>Was fun</td>\n",
       "    </tr>\n",
       "    <tr>\n",
       "      <th>9</th>\n",
       "      <td>Riding in a beautiful race on closed roads</td>\n",
       "      <td>no answer given</td>\n",
       "      <td>no answer given</td>\n",
       "      <td>no answer given</td>\n",
       "    </tr>\n",
       "    <tr>\n",
       "      <th>10</th>\n",
       "      <td>no answer given</td>\n",
       "      <td>Start outside waiting congested</td>\n",
       "      <td>More gates at start</td>\n",
       "      <td>Only 10 events on race number, should have bee...</td>\n",
       "    </tr>\n",
       "    <tr>\n",
       "      <th>11</th>\n",
       "      <td>Well organised as always</td>\n",
       "      <td>The big ice blocks, we use to put ice in our b...</td>\n",
       "      <td>Bring back small ice cubes so we can put in in...</td>\n",
       "      <td>no answer given</td>\n",
       "    </tr>\n",
       "    <tr>\n",
       "      <th>12</th>\n",
       "      <td>Great route and vibe</td>\n",
       "      <td>no answer given</td>\n",
       "      <td>Less ebikes</td>\n",
       "      <td>no answer given</td>\n",
       "    </tr>\n",
       "    <tr>\n",
       "      <th>13</th>\n",
       "      <td>Efficient start process</td>\n",
       "      <td>Missed the supporters on top of Suikerbossie</td>\n",
       "      <td>Better goodie bag considering the entry cost</td>\n",
       "      <td>no answer given</td>\n",
       "    </tr>\n",
       "    <tr>\n",
       "      <th>14</th>\n",
       "      <td>Well organised. Support from the public. Great...</td>\n",
       "      <td>e-bikes</td>\n",
       "      <td>Not much. It's a well run event.\n",
       "(I nearly did...</td>\n",
       "      <td>No.</td>\n",
       "    </tr>\n",
       "    <tr>\n",
       "      <th>15</th>\n",
       "      <td>Beautiful route, excellent organization, great...</td>\n",
       "      <td>nothing</td>\n",
       "      <td>Less wind :-)</td>\n",
       "      <td>Keep it going - it is a fantastic event - and ...</td>\n",
       "    </tr>\n",
       "    <tr>\n",
       "      <th>16</th>\n",
       "      <td>Enough watering points along the route</td>\n",
       "      <td>Almost everything, from the starting shutes an...</td>\n",
       "      <td>Improve on the starting shutes, standing aroun...</td>\n",
       "      <td>no answer given</td>\n",
       "    </tr>\n",
       "    <tr>\n",
       "      <th>17</th>\n",
       "      <td>no answer given</td>\n",
       "      <td>no answer given</td>\n",
       "      <td>no answer given</td>\n",
       "      <td>no answer given</td>\n",
       "    </tr>\n",
       "    <tr>\n",
       "      <th>18</th>\n",
       "      <td>Route, people, vibe</td>\n",
       "      <td>The start chute loading procedure. There are w...</td>\n",
       "      <td>The start chute procedure.</td>\n",
       "      <td>no answer given</td>\n",
       "    </tr>\n",
       "    <tr>\n",
       "      <th>19</th>\n",
       "      <td>The Vibe</td>\n",
       "      <td>The start location reeked of human excrement</td>\n",
       "      <td>Move the start or clean it up thoroughly.</td>\n",
       "      <td>Overall satisfied with organizing but smaller ...</td>\n",
       "    </tr>\n",
       "  </tbody>\n",
       "</table>\n",
       "</div>"
      ],
      "text/plain": [
       "                                       txt_what_liked  \\\n",
       "0                                     no answer given   \n",
       "1                           The Team who organise it!   \n",
       "2                      well organised, great helpers    \n",
       "3                                      Road closures    \n",
       "4                Well organized event and great route   \n",
       "5                                     no answer given   \n",
       "6    Awesome scenery, closed roads, excellent \"gees\"!   \n",
       "7                                     no answer given   \n",
       "8                                  Full road closure    \n",
       "9          Riding in a beautiful race on closed roads   \n",
       "10                                    no answer given   \n",
       "11                           Well organised as always   \n",
       "12                               Great route and vibe   \n",
       "13                            Efficient start process   \n",
       "14  Well organised. Support from the public. Great...   \n",
       "15  Beautiful route, excellent organization, great...   \n",
       "16             Enough watering points along the route   \n",
       "17                                    no answer given   \n",
       "18                                Route, people, vibe   \n",
       "19                                           The Vibe   \n",
       "\n",
       "                                   txt_what_not_liked  \\\n",
       "0                                     no answer given   \n",
       "1                               Nothing comes to mind   \n",
       "2                            start a little too late    \n",
       "3        It is getting dangerous with larger groups.    \n",
       "4             Think it’s starting to get quite pricey   \n",
       "5                                     no answer given   \n",
       "6                               I was under-prepared!   \n",
       "7   Just didnt feel it was quite up to your normal...   \n",
       "8          Some crazy cyclists making is a bit unsafe   \n",
       "9                                     no answer given   \n",
       "10                   Start outside waiting congested    \n",
       "11  The big ice blocks, we use to put ice in our b...   \n",
       "12                                    no answer given   \n",
       "13       Missed the supporters on top of Suikerbossie   \n",
       "14                                            e-bikes   \n",
       "15                                            nothing   \n",
       "16  Almost everything, from the starting shutes an...   \n",
       "17                                    no answer given   \n",
       "18  The start chute loading procedure. There are w...   \n",
       "19      The start location reeked of human excrement    \n",
       "\n",
       "                                    txt_do_to_improve  \\\n",
       "0                                     no answer given   \n",
       "1   Alp du Hez experience at the top of Alp du Sui...   \n",
       "2                                      start earlier    \n",
       "3                      Rider safety in large groups.    \n",
       "4                                                 N/a   \n",
       "5                                     no answer given   \n",
       "6   I missed the presence of the big cycling store...   \n",
       "7                                     no answer given   \n",
       "8                                            Not sure   \n",
       "9                                     no answer given   \n",
       "10                                More gates at start   \n",
       "11  Bring back small ice cubes so we can put in in...   \n",
       "12                                        Less ebikes   \n",
       "13      Better goodie bag considering the entry cost    \n",
       "14  Not much. It's a well run event.\n",
       "(I nearly did...   \n",
       "15                                      Less wind :-)   \n",
       "16  Improve on the starting shutes, standing aroun...   \n",
       "17                                    no answer given   \n",
       "18                         The start chute procedure.   \n",
       "19          Move the start or clean it up thoroughly.   \n",
       "\n",
       "                                    txt_anything_else  \n",
       "0                                     no answer given  \n",
       "1                                          brilliant!  \n",
       "2                            much better than 109KM's  \n",
       "3                                                Nope  \n",
       "4                                                 N/a  \n",
       "5                                     no answer given  \n",
       "6                          Most enjoyable, as always!  \n",
       "7                                     no answer given  \n",
       "8                                             Was fun  \n",
       "9                                     no answer given  \n",
       "10  Only 10 events on race number, should have bee...  \n",
       "11                                    no answer given  \n",
       "12                                    no answer given  \n",
       "13                                    no answer given  \n",
       "14                                                No.  \n",
       "15  Keep it going - it is a fantastic event - and ...  \n",
       "16                                    no answer given  \n",
       "17                                    no answer given  \n",
       "18                                    no answer given  \n",
       "19  Overall satisfied with organizing but smaller ...  "
      ]
     },
     "execution_count": 10,
     "metadata": {},
     "output_type": "execute_result"
    }
   ],
   "source": [
    "no_answer_text = \"no answer given\"\n",
    "\n",
    "txt_cols = ['txt_what_liked', 'txt_what_not_liked', 'txt_do_to_improve', 'txt_anything_else']\n",
    "all_data[txt_cols] = all_data[txt_cols].fillna(no_answer_text)\n",
    "all_data[txt_cols].head(20)"
   ]
  },
  {
   "cell_type": "code",
   "execution_count": 11,
   "metadata": {},
   "outputs": [
    {
     "name": "stdout",
     "output_type": "stream",
     "text": [
      "Data with no demographic records: 55 rows, 0.95% of 5784 total records.\n"
     ]
    }
   ],
   "source": [
    "len_times = len(times)\n",
    "lost_records = len(all_data) - len_times\n",
    "lost_records_percent = lost_records / len_times\n",
    "print(\n",
    "    f\"Data with no demographic records: {lost_records} rows, {lost_records_percent:.2%} of {len_times} total records.\"\n",
    ")"
   ]
  },
  {
   "cell_type": "code",
   "execution_count": 12,
   "metadata": {},
   "outputs": [],
   "source": [
    "# GPT call for themes\n",
    "\n",
    "def summarize_gpt(input):\n",
    "    # OpenAI API call to summarize the text\n",
    "\n",
    "    response = client.chat.completions.create(\n",
    "        model=\"gpt-4o-mini\",  # Specify the model you want to use\n",
    "        messages=[\n",
    "            {\"role\": \"system\", \"content\": \"You are a helpful assistant.\"},\n",
    "            {\n",
    "                \"role\": \"user\",\n",
    "                \"content\": f\"{input}\",\n",
    "            },\n",
    "        ],\n",
    "        # max_tokens=200,  # Adjust max tokens based on desired summary length\n",
    "        # temperature=0.5,\n",
    "        response_format={\"type\": \"json_object\"},\n",
    "    )\n",
    "\n",
    "    # Extract the summary from the response\n",
    "    summary = response.choices[0].message.content.strip()\n",
    "    return summary"
   ]
  },
  {
   "cell_type": "code",
   "execution_count": 29,
   "metadata": {},
   "outputs": [],
   "source": [
    "# GPT call for theme matching\n",
    "# https://platform.openai.com/docs/guides/structured-outputs\n",
    "def theme_matching(themes, responses):\n",
    "\n",
    "    class EachAnswer(BaseModel):\n",
    "        response_id: int\n",
    "        response_text: str\n",
    "        theme_id: int\n",
    "        theme_text: str\n",
    "\n",
    "    class AllAnswers(BaseModel):\n",
    "        classifications: list[EachAnswer]\n",
    "\n",
    "    messages=[\n",
    "    {\n",
    "        \"role\": \"system\",\n",
    "        \"content\": \"You are an assistant for matching human responses to a survey to pre-existing themes.\",\n",
    "    },\n",
    "    {\n",
    "        \"role\": \"user\",\n",
    "        \"content\": f\"I have a list of themes summarised over some responses to a survey question. The themes represent common topics found in the resposnes.\n",
    "        Here are the themes: {themes}\",\n",
    "    },\n",
    "        {\n",
    "        \"role\": \"user\",\n",
    "        \"content\": f\"I will give you the responses used to generate the themes.\n",
    "        For each response, I want you to identify which one of the themes most closely represents the response.\n",
    "        For each response, return the index of the response, the response text, the index and text of the most representative theme.\n",
    "        Here are the responses {responses}:  \n",
    "        .\",\n",
    "    },\n",
    "    ],\n",
    "\n",
    "    completion = client.beta.chat.completions.parse(\n",
    "        model=\"gpt-4o-mini-2024-07-18\",\n",
    "        messages=messages\n",
    "        response_format=AllAnswers,\n",
    "    )\n",
    "\n",
    "    return completion.choices[0].message.parsed"
   ]
  },
  {
   "cell_type": "code",
   "execution_count": 14,
   "metadata": {},
   "outputs": [],
   "source": [
    "working_data = all_data[:20]"
   ]
  },
  {
   "cell_type": "code",
   "execution_count": 15,
   "metadata": {},
   "outputs": [],
   "source": [
    "answers_list = working_data[\"txt_what_liked\"].to_list()\n",
    "answers_input = \"\\n\".join(answers_list)"
   ]
  },
  {
   "cell_type": "code",
   "execution_count": 16,
   "metadata": {},
   "outputs": [
    {
     "data": {
      "text/plain": [
       "'no answer given\\nThe Team who organise it!\\nwell organised, great helpers \\nRoad closures \\nWell organized event and great route\\nno answer given\\nAwesome scenery, closed roads, excellent \"gees\"!\\nno answer given\\nFull road closure \\nRiding in a beautiful race on closed roads\\nno answer given\\nWell organised as always\\nGreat route and vibe\\nEfficient start process\\nWell organised. Support from the public. Great weather!\\nBeautiful route, excellent organization, great vibe - on route and afterwards around the beer tents.\\nEnough watering points along the route\\nno answer given\\nRoute, people, vibe\\nThe Vibe'"
      ]
     },
     "execution_count": 16,
     "metadata": {},
     "output_type": "execute_result"
    }
   ],
   "source": [
    "answers_input"
   ]
  },
  {
   "cell_type": "code",
   "execution_count": 17,
   "metadata": {},
   "outputs": [],
   "source": [
    "prompt1 = f\"\"\"\n",
    "The following is a list of answers to a single question in a market research survey. Create an overall list of themes extracted from all answers.\n",
    "There should be at most 7 themes. Each theme should be a maximum of 20 words.\n",
    "Return the answer as a JSON list with the element name \"themes\"\n",
    "\n",
    "Here are the inputs {answers_input}\n",
    "\"\"\""
   ]
  },
  {
   "cell_type": "code",
   "execution_count": 18,
   "metadata": {},
   "outputs": [
    {
     "name": "stdout",
     "output_type": "stream",
     "text": [
      "{\n",
      "  \"themes\": [\n",
      "    \"Excellent organization and planning\",\n",
      "    \"Scenic and beautiful race route\",\n",
      "    \"Positive atmosphere and vibe\",\n",
      "    \"Full road closures for safety\",\n",
      "    \"Support from helpers and volunteers\",\n",
      "    \"Adequate facilities like watering points\",\n",
      "    \"Efficient event processes and start\"\n",
      "  ]\n",
      "}\n"
     ]
    }
   ],
   "source": [
    "output = summarize_gpt(prompt1)\n",
    "print(output)"
   ]
  },
  {
   "cell_type": "code",
   "execution_count": 20,
   "metadata": {},
   "outputs": [
    {
     "name": "stdout",
     "output_type": "stream",
     "text": [
      "Excellent organization and planning\n",
      "Scenic and beautiful race route\n",
      "Positive atmosphere and vibe\n",
      "Full road closures for safety\n",
      "Support from helpers and volunteers\n",
      "Adequate facilities like watering points\n",
      "Efficient event processes and start\n"
     ]
    }
   ],
   "source": [
    "output_json = json.loads(output)\n",
    "\n",
    "themes_for_input = \"\\n\".join(output_json[\"themes\"])\n",
    "print(themes_for_input)"
   ]
  },
  {
   "cell_type": "code",
   "execution_count": 186,
   "metadata": {},
   "outputs": [
    {
     "data": {
      "text/plain": [
       "'Excellent route\\nGreat vibe\\nWell-organized event\\nGood hydration points\\nPositive overall experience\\nImproved post-Covid experience\\nEfficient organization'"
      ]
     },
     "execution_count": 186,
     "metadata": {},
     "output_type": "execute_result"
    }
   ],
   "source": [
    "temp_themes = [\n",
    "    \"Excellent organization and planning\",\n",
    "    \"Scenic and beautiful race route\",\n",
    "    \"Positive atmosphere and vibe\",\n",
    "    \"Full road closures for safety\",\n",
    "    \"Support from helpers and volunteers\",\n",
    "    \"Adequate facilities like watering points\",\n",
    "    \"Efficient event processes and start\",\n",
    "]\n",
    "\n",
    "temp_themes_for_input = \"\\n\".join(temp_themes)\n",
    "temp_themes_for_input"
   ]
  },
  {
   "cell_type": "code",
   "execution_count": 22,
   "metadata": {},
   "outputs": [
    {
     "data": {
      "text/plain": [
       "'Excellent organization and planning\\nScenic and beautiful race route\\nPositive atmosphere and vibe\\nFull road closures for safety\\nSupport from helpers and volunteers\\nAdequate facilities like watering points\\nEfficient event processes and start'"
      ]
     },
     "execution_count": 22,
     "metadata": {},
     "output_type": "execute_result"
    }
   ],
   "source": [
    "temp_themes_for_input = themes_for_input\n",
    "temp_themes_for_input"
   ]
  },
  {
   "cell_type": "code",
   "execution_count": 23,
   "metadata": {},
   "outputs": [
    {
     "name": "stdout",
     "output_type": "stream",
     "text": [
      "20 7\n"
     ]
    }
   ],
   "source": [
    "expected_number = len(answers_list)\n",
    "themes_count = len(output_json[\"themes\"])\n",
    "print(expected_number, themes_count)"
   ]
  },
  {
   "cell_type": "code",
   "execution_count": null,
   "metadata": {},
   "outputs": [],
   "source": [
    "response = theme_matching(temp_themes_for_input, answers_list)\n",
    "print (response)"
   ]
  },
  {
   "cell_type": "code",
   "execution_count": 224,
   "metadata": {},
   "outputs": [],
   "source": [
    "output2_json = json.loads(output2)"
   ]
  },
  {
   "cell_type": "code",
   "execution_count": 225,
   "metadata": {},
   "outputs": [
    {
     "data": {
      "text/plain": [
       "20"
      ]
     },
     "execution_count": 225,
     "metadata": {},
     "output_type": "execute_result"
    }
   ],
   "source": [
    "len(output2_json['responses'])"
   ]
  },
  {
   "cell_type": "code",
   "execution_count": null,
   "metadata": {},
   "outputs": [],
   "source": []
  }
 ],
 "metadata": {
  "kernelspec": {
   "display_name": "transcriptions",
   "language": "python",
   "name": "python3"
  },
  "language_info": {
   "codemirror_mode": {
    "name": "ipython",
    "version": 3
   },
   "file_extension": ".py",
   "mimetype": "text/x-python",
   "name": "python",
   "nbconvert_exporter": "python",
   "pygments_lexer": "ipython3",
   "version": "3.12.1"
  }
 },
 "nbformat": 4,
 "nbformat_minor": 2
}
