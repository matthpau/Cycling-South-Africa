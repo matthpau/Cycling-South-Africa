{
 "cells": [
  {
   "cell_type": "code",
   "execution_count": 1,
   "metadata": {},
   "outputs": [],
   "source": [
    "import pandas as pd\n",
    "from openai import OpenAI\n",
    "import os\n",
    "from dotenv import load_dotenv\n",
    "import json\n",
    "from pydantic import BaseModel"
   ]
  },
  {
   "cell_type": "code",
   "execution_count": 2,
   "metadata": {},
   "outputs": [
    {
     "data": {
      "text/plain": [
       "True"
      ]
     },
     "execution_count": 2,
     "metadata": {},
     "output_type": "execute_result"
    }
   ],
   "source": [
    "from os.path import expanduser\n",
    "\n",
    "load_dotenv(os.path.join(expanduser(\"~\"), \".env\"))"
   ]
  },
  {
   "cell_type": "code",
   "execution_count": 3,
   "metadata": {},
   "outputs": [],
   "source": [
    "client = OpenAI(\n",
    "    # defaults to os.environ.get(\"OPENAI_API_KEY\")\n",
    "    api_key=os.getenv(\"OPENAI_API_KEY\"),\n",
    ")"
   ]
  },
  {
   "cell_type": "code",
   "execution_count": 4,
   "metadata": {},
   "outputs": [],
   "source": [
    "data_file = \"data_input.xlsx\"\n",
    "times = pd.read_excel(data_file, sheet_name=\"Data\", index_col=\"ID\")\n",
    "demog = pd.read_excel(data_file, sheet_name=\"Demographic\")"
   ]
  },
  {
   "cell_type": "code",
   "execution_count": 5,
   "metadata": {},
   "outputs": [],
   "source": [
    "times.columns = [\n",
    "    \"start_time\",\n",
    "    \"completion_time\",\n",
    "    \"star_rating\",\n",
    "    \"txt_what_liked\",\n",
    "    \"txt_what_not_liked\",\n",
    "    \"txt_do_to_improve\",\n",
    "    \"txt_anything_else\",\n",
    "    \"recommend_likelihood\",\n",
    "    \"ref_num\",\n",
    "    \"person_id\",\n",
    "    \"start_group\",\n",
    "    \"gender\",\n",
    "    \"age_group\",\n",
    "    \"country\",\n",
    "    \"province\",\n",
    "    \"number_finished\",\n",
    "    \"reg_day\",\n",
    "    \"reg_hour\",\n",
    "    \"PPA\",\n",
    "    \"has_result\",\n",
    "]\n",
    "\n",
    "demog.columns = [\n",
    "    \"person_id\",\n",
    "    \"start_group\",\n",
    "    \"gender\",\n",
    "    \"age_group\",\n",
    "    \"country\",\n",
    "    \"province\",\n",
    "    \"number_finished\",\n",
    "    \"reg_day\",\n",
    "    \"reg_hour\",\n",
    "    \"PPA\",\n",
    "    \"has_result\",\n",
    "]"
   ]
  },
  {
   "cell_type": "code",
   "execution_count": 6,
   "metadata": {},
   "outputs": [],
   "source": [
    "all_data = pd.merge(\n",
    "    times, demog, on=\"person_id\", how=\"left\", suffixes=(None, \"_demog\")\n",
    ").convert_dtypes()\n",
    "\n",
    "all_data.drop(\n",
    "    columns=[\n",
    "        \"start_group\",\n",
    "        \"gender\",\n",
    "        \"age_group\",\n",
    "        \"country\",\n",
    "        \"province\",\n",
    "        \"number_finished\",\n",
    "        \"reg_day\",\n",
    "        \"reg_hour\",\n",
    "        \"PPA\",\n",
    "        \"has_result\",\n",
    "    ],\n",
    "    inplace=True,\n",
    ")"
   ]
  },
  {
   "cell_type": "code",
   "execution_count": 7,
   "metadata": {},
   "outputs": [],
   "source": [
    "all_data = all_data.astype(\n",
    "    {\n",
    "        \"start_group_demog\": \"category\",\n",
    "        \"gender_demog\": \"category\",\n",
    "        \"age_group_demog\": \"category\",\n",
    "        \"country_demog\": \"category\",\n",
    "        \"province_demog\": \"category\",\n",
    "    }\n",
    ")"
   ]
  },
  {
   "cell_type": "code",
   "execution_count": 8,
   "metadata": {},
   "outputs": [
    {
     "data": {
      "text/html": [
       "<div>\n",
       "<style scoped>\n",
       "    .dataframe tbody tr th:only-of-type {\n",
       "        vertical-align: middle;\n",
       "    }\n",
       "\n",
       "    .dataframe tbody tr th {\n",
       "        vertical-align: top;\n",
       "    }\n",
       "\n",
       "    .dataframe thead th {\n",
       "        text-align: right;\n",
       "    }\n",
       "</style>\n",
       "<table border=\"1\" class=\"dataframe\">\n",
       "  <thead>\n",
       "    <tr style=\"text-align: right;\">\n",
       "      <th></th>\n",
       "      <th>txt_what_liked</th>\n",
       "      <th>txt_what_not_liked</th>\n",
       "      <th>txt_do_to_improve</th>\n",
       "      <th>txt_anything_else</th>\n",
       "    </tr>\n",
       "  </thead>\n",
       "  <tbody>\n",
       "    <tr>\n",
       "      <th>0</th>\n",
       "      <td>no answer given</td>\n",
       "      <td>no answer given</td>\n",
       "      <td>no answer given</td>\n",
       "      <td>no answer given</td>\n",
       "    </tr>\n",
       "    <tr>\n",
       "      <th>1</th>\n",
       "      <td>The Team who organise it!</td>\n",
       "      <td>Nothing comes to mind</td>\n",
       "      <td>Alp du Hez experience at the top of Alp du Sui...</td>\n",
       "      <td>brilliant!</td>\n",
       "    </tr>\n",
       "    <tr>\n",
       "      <th>2</th>\n",
       "      <td>well organised, great helpers</td>\n",
       "      <td>start a little too late</td>\n",
       "      <td>start earlier</td>\n",
       "      <td>much better than 109KM's</td>\n",
       "    </tr>\n",
       "    <tr>\n",
       "      <th>3</th>\n",
       "      <td>Road closures</td>\n",
       "      <td>It is getting dangerous with larger groups.</td>\n",
       "      <td>Rider safety in large groups.</td>\n",
       "      <td>Nope</td>\n",
       "    </tr>\n",
       "    <tr>\n",
       "      <th>4</th>\n",
       "      <td>Well organized event and great route</td>\n",
       "      <td>Think it’s starting to get quite pricey</td>\n",
       "      <td>N/a</td>\n",
       "      <td>N/a</td>\n",
       "    </tr>\n",
       "    <tr>\n",
       "      <th>5</th>\n",
       "      <td>no answer given</td>\n",
       "      <td>no answer given</td>\n",
       "      <td>no answer given</td>\n",
       "      <td>no answer given</td>\n",
       "    </tr>\n",
       "    <tr>\n",
       "      <th>6</th>\n",
       "      <td>Awesome scenery, closed roads, excellent \"gees\"!</td>\n",
       "      <td>I was under-prepared!</td>\n",
       "      <td>I missed the presence of the big cycling store...</td>\n",
       "      <td>Most enjoyable, as always!</td>\n",
       "    </tr>\n",
       "    <tr>\n",
       "      <th>7</th>\n",
       "      <td>no answer given</td>\n",
       "      <td>Just didnt feel it was quite up to your normal...</td>\n",
       "      <td>no answer given</td>\n",
       "      <td>no answer given</td>\n",
       "    </tr>\n",
       "    <tr>\n",
       "      <th>8</th>\n",
       "      <td>Full road closure</td>\n",
       "      <td>Some crazy cyclists making is a bit unsafe</td>\n",
       "      <td>Not sure</td>\n",
       "      <td>Was fun</td>\n",
       "    </tr>\n",
       "    <tr>\n",
       "      <th>9</th>\n",
       "      <td>Riding in a beautiful race on closed roads</td>\n",
       "      <td>no answer given</td>\n",
       "      <td>no answer given</td>\n",
       "      <td>no answer given</td>\n",
       "    </tr>\n",
       "    <tr>\n",
       "      <th>10</th>\n",
       "      <td>no answer given</td>\n",
       "      <td>Start outside waiting congested</td>\n",
       "      <td>More gates at start</td>\n",
       "      <td>Only 10 events on race number, should have bee...</td>\n",
       "    </tr>\n",
       "    <tr>\n",
       "      <th>11</th>\n",
       "      <td>Well organised as always</td>\n",
       "      <td>The big ice blocks, we use to put ice in our b...</td>\n",
       "      <td>Bring back small ice cubes so we can put in in...</td>\n",
       "      <td>no answer given</td>\n",
       "    </tr>\n",
       "    <tr>\n",
       "      <th>12</th>\n",
       "      <td>Great route and vibe</td>\n",
       "      <td>no answer given</td>\n",
       "      <td>Less ebikes</td>\n",
       "      <td>no answer given</td>\n",
       "    </tr>\n",
       "    <tr>\n",
       "      <th>13</th>\n",
       "      <td>Efficient start process</td>\n",
       "      <td>Missed the supporters on top of Suikerbossie</td>\n",
       "      <td>Better goodie bag considering the entry cost</td>\n",
       "      <td>no answer given</td>\n",
       "    </tr>\n",
       "    <tr>\n",
       "      <th>14</th>\n",
       "      <td>Well organised. Support from the public. Great...</td>\n",
       "      <td>e-bikes</td>\n",
       "      <td>Not much. It's a well run event.\n",
       "(I nearly did...</td>\n",
       "      <td>No.</td>\n",
       "    </tr>\n",
       "    <tr>\n",
       "      <th>15</th>\n",
       "      <td>Beautiful route, excellent organization, great...</td>\n",
       "      <td>nothing</td>\n",
       "      <td>Less wind :-)</td>\n",
       "      <td>Keep it going - it is a fantastic event - and ...</td>\n",
       "    </tr>\n",
       "    <tr>\n",
       "      <th>16</th>\n",
       "      <td>Enough watering points along the route</td>\n",
       "      <td>Almost everything, from the starting shutes an...</td>\n",
       "      <td>Improve on the starting shutes, standing aroun...</td>\n",
       "      <td>no answer given</td>\n",
       "    </tr>\n",
       "    <tr>\n",
       "      <th>17</th>\n",
       "      <td>no answer given</td>\n",
       "      <td>no answer given</td>\n",
       "      <td>no answer given</td>\n",
       "      <td>no answer given</td>\n",
       "    </tr>\n",
       "    <tr>\n",
       "      <th>18</th>\n",
       "      <td>Route, people, vibe</td>\n",
       "      <td>The start chute loading procedure. There are w...</td>\n",
       "      <td>The start chute procedure.</td>\n",
       "      <td>no answer given</td>\n",
       "    </tr>\n",
       "    <tr>\n",
       "      <th>19</th>\n",
       "      <td>The Vibe</td>\n",
       "      <td>The start location reeked of human excrement</td>\n",
       "      <td>Move the start or clean it up thoroughly.</td>\n",
       "      <td>Overall satisfied with organizing but smaller ...</td>\n",
       "    </tr>\n",
       "  </tbody>\n",
       "</table>\n",
       "</div>"
      ],
      "text/plain": [
       "                                       txt_what_liked  \\\n",
       "0                                     no answer given   \n",
       "1                           The Team who organise it!   \n",
       "2                      well organised, great helpers    \n",
       "3                                      Road closures    \n",
       "4                Well organized event and great route   \n",
       "5                                     no answer given   \n",
       "6    Awesome scenery, closed roads, excellent \"gees\"!   \n",
       "7                                     no answer given   \n",
       "8                                  Full road closure    \n",
       "9          Riding in a beautiful race on closed roads   \n",
       "10                                    no answer given   \n",
       "11                           Well organised as always   \n",
       "12                               Great route and vibe   \n",
       "13                            Efficient start process   \n",
       "14  Well organised. Support from the public. Great...   \n",
       "15  Beautiful route, excellent organization, great...   \n",
       "16             Enough watering points along the route   \n",
       "17                                    no answer given   \n",
       "18                                Route, people, vibe   \n",
       "19                                           The Vibe   \n",
       "\n",
       "                                   txt_what_not_liked  \\\n",
       "0                                     no answer given   \n",
       "1                               Nothing comes to mind   \n",
       "2                            start a little too late    \n",
       "3        It is getting dangerous with larger groups.    \n",
       "4             Think it’s starting to get quite pricey   \n",
       "5                                     no answer given   \n",
       "6                               I was under-prepared!   \n",
       "7   Just didnt feel it was quite up to your normal...   \n",
       "8          Some crazy cyclists making is a bit unsafe   \n",
       "9                                     no answer given   \n",
       "10                   Start outside waiting congested    \n",
       "11  The big ice blocks, we use to put ice in our b...   \n",
       "12                                    no answer given   \n",
       "13       Missed the supporters on top of Suikerbossie   \n",
       "14                                            e-bikes   \n",
       "15                                            nothing   \n",
       "16  Almost everything, from the starting shutes an...   \n",
       "17                                    no answer given   \n",
       "18  The start chute loading procedure. There are w...   \n",
       "19      The start location reeked of human excrement    \n",
       "\n",
       "                                    txt_do_to_improve  \\\n",
       "0                                     no answer given   \n",
       "1   Alp du Hez experience at the top of Alp du Sui...   \n",
       "2                                      start earlier    \n",
       "3                      Rider safety in large groups.    \n",
       "4                                                 N/a   \n",
       "5                                     no answer given   \n",
       "6   I missed the presence of the big cycling store...   \n",
       "7                                     no answer given   \n",
       "8                                            Not sure   \n",
       "9                                     no answer given   \n",
       "10                                More gates at start   \n",
       "11  Bring back small ice cubes so we can put in in...   \n",
       "12                                        Less ebikes   \n",
       "13      Better goodie bag considering the entry cost    \n",
       "14  Not much. It's a well run event.\n",
       "(I nearly did...   \n",
       "15                                      Less wind :-)   \n",
       "16  Improve on the starting shutes, standing aroun...   \n",
       "17                                    no answer given   \n",
       "18                         The start chute procedure.   \n",
       "19          Move the start or clean it up thoroughly.   \n",
       "\n",
       "                                    txt_anything_else  \n",
       "0                                     no answer given  \n",
       "1                                          brilliant!  \n",
       "2                            much better than 109KM's  \n",
       "3                                                Nope  \n",
       "4                                                 N/a  \n",
       "5                                     no answer given  \n",
       "6                          Most enjoyable, as always!  \n",
       "7                                     no answer given  \n",
       "8                                             Was fun  \n",
       "9                                     no answer given  \n",
       "10  Only 10 events on race number, should have bee...  \n",
       "11                                    no answer given  \n",
       "12                                    no answer given  \n",
       "13                                    no answer given  \n",
       "14                                                No.  \n",
       "15  Keep it going - it is a fantastic event - and ...  \n",
       "16                                    no answer given  \n",
       "17                                    no answer given  \n",
       "18                                    no answer given  \n",
       "19  Overall satisfied with organizing but smaller ...  "
      ]
     },
     "execution_count": 8,
     "metadata": {},
     "output_type": "execute_result"
    }
   ],
   "source": [
    "no_answer_text = \"no answer given\"\n",
    "\n",
    "txt_cols = [\n",
    "    \"txt_what_liked\",\n",
    "    \"txt_what_not_liked\",\n",
    "    \"txt_do_to_improve\",\n",
    "    \"txt_anything_else\",\n",
    "]\n",
    "\n",
    "all_data[txt_cols] = all_data[txt_cols].fillna(no_answer_text)\n",
    "all_data[txt_cols].head(20)"
   ]
  },
  {
   "cell_type": "code",
   "execution_count": 9,
   "metadata": {},
   "outputs": [
    {
     "name": "stdout",
     "output_type": "stream",
     "text": [
      "Data with no demographic records: 55 rows, 0.95% of 5784 total records.\n"
     ]
    }
   ],
   "source": [
    "len_times = len(times)\n",
    "lost_records = len(all_data) - len_times\n",
    "lost_records_percent = lost_records / len_times\n",
    "print(\n",
    "    f\"Data with no demographic records: {lost_records} rows, {lost_records_percent:.2%} of {len_times} total records.\"\n",
    ")"
   ]
  },
  {
   "cell_type": "code",
   "execution_count": 36,
   "metadata": {},
   "outputs": [],
   "source": [
    "# GPT call for themes\n",
    "\n",
    "def summarize_gpt(responses):\n",
    "    # OpenAI API call to summarize the text\n",
    "\n",
    "    class Theme(BaseModel):\n",
    "        theme_text: str\n",
    "\n",
    "    class AllThemes(BaseModel):\n",
    "        themes: list[Theme]\n",
    "\n",
    "    messages = [\n",
    "            {\"role\": \"system\", \"content\": \"You are a helpful assistant.\"},\n",
    "            {\n",
    "                \"role\": \"user\",\n",
    "                \"content\": f\"\"\"The following is a list of responses to a single question in a market research survey. \n",
    "                Create an overall list of themes extracted from all answers. There should be at most 7 themes. Each theme should be a maximum of 20 words.\n",
    "                Here are the responses{responses}\"\"\",\n",
    "            },\n",
    "        ]\n",
    "\n",
    "    completion   = client.beta.chat.completions.parse(\n",
    "        model=\"gpt-4o-mini\",  # Specify the model you want to use\n",
    "        messages=messages,\n",
    "        response_format=AllThemes,\n",
    "    )\n",
    "\n",
    "    # Extract the summary from the response\n",
    "    return completion.choices[0].message.parsed\n",
    "  "
   ]
  },
  {
   "cell_type": "code",
   "execution_count": 23,
   "metadata": {},
   "outputs": [],
   "source": [
    "# GPT call for theme matching\n",
    "# https://platform.openai.com/docs/guides/structured-outputs\n",
    "def theme_matching(themes, responses):\n",
    "\n",
    "    class EachAnswer(BaseModel):\n",
    "        response_id: int\n",
    "        response_text: str\n",
    "        theme_id: int\n",
    "        theme_text: str\n",
    "\n",
    "    class AllAnswers(BaseModel):\n",
    "        classifications: list[EachAnswer]\n",
    "\n",
    "    messages = [\n",
    "            {\n",
    "                \"role\": \"system\",\n",
    "                \"content\": \"You are an assistant for matching human responses to a survey to pre-existing themes.\",\n",
    "            },\n",
    "            {\n",
    "                \"role\": \"user\",\n",
    "                \"content\": f\"\"\"I have a list of themes summarised over some responses to a survey question. The themes represent common topics found in the resposnes.\n",
    "        Here are the themes: {themes}\"\"\",\n",
    "            },\n",
    "            {\n",
    "                \"role\": \"user\",\n",
    "                \"content\": f\"\"\"I will give you the responses used to generate the themes.\n",
    "        For each response, I want you to identify which one of the themes most closely represents the response.\n",
    "        For each response, return the index of the response, the response text, the index and text of the most representative theme.\n",
    "        However, if the response text is {no_answer_text}, there will be no theme. Return 0 as the theme index and leave the theme text empty.\n",
    "        Here are the responses {responses}:\"\"\",\n",
    "            },\n",
    "        ]\n",
    "    \n",
    "    completion = client.beta.chat.completions.parse(\n",
    "        model=\"gpt-4o-mini-2024-07-18\",\n",
    "        messages=messages,\n",
    "        response_format=AllAnswers,\n",
    "    )\n",
    "\n",
    "    return completion.choices[0].message.parsed"
   ]
  },
  {
   "cell_type": "code",
   "execution_count": 46,
   "metadata": {},
   "outputs": [],
   "source": [
    "working_data = all_data[:20]"
   ]
  },
  {
   "cell_type": "code",
   "execution_count": null,
   "metadata": {},
   "outputs": [],
   "source": [
    "txt_cols_to_classify = [\n",
    "    \"txt_what_liked\",\n",
    "    \"txt_what_not_liked\",\n",
    "    \"txt_do_to_improve\",\n",
    "]\n",
    "\n",
    "txt_cols_to_summarise = [\n",
    "    \"txt_do_to_improve\",\n",
    "    \"txt_anything_else\",\n",
    "]"
   ]
  },
  {
   "cell_type": "code",
   "execution_count": 47,
   "metadata": {},
   "outputs": [
    {
     "data": {
      "text/plain": [
       "'no answer given\\nThe Team who organise it!\\nwell organised, great helpers \\nRoad closures \\nWell organized event and great route\\nno answer given\\nAwesome scenery, closed roads, excellent \"gees\"!\\nno answer given\\nFull road closure \\nRiding in a beautiful race on closed roads\\nno answer given\\nWell organised as always\\nGreat route and vibe\\nEfficient start process\\nWell organised. Support from the public. Great weather!\\nBeautiful route, excellent organization, great vibe - on route and afterwards around the beer tents.\\nEnough watering points along the route\\nno answer given\\nRoute, people, vibe\\nThe Vibe'"
      ]
     },
     "execution_count": 47,
     "metadata": {},
     "output_type": "execute_result"
    }
   ],
   "source": [
    "answers_list = working_data[\"txt_what_liked\"].to_list()\n",
    "answers_input = \"\\n\".join(answers_list)\n",
    "answers_input"
   ]
  },
  {
   "cell_type": "code",
   "execution_count": 37,
   "metadata": {},
   "outputs": [
    {
     "name": "stdout",
     "output_type": "stream",
     "text": [
      "themes=[Theme(theme_text='Well-organized event with great support from helpers'), Theme(theme_text='Road closures that enhance the experience'), Theme(theme_text='Beautiful scenery along the route'), Theme(theme_text='Positive vibes and community support'), Theme(theme_text='Sufficient watering points during the race'), Theme(theme_text='Efficient start process and overall organization'), Theme(theme_text='Enjoyable atmosphere with beer tents and post-race celebrations')]\n"
     ]
    }
   ],
   "source": [
    "output = summarize_gpt(answers_input)"
   ]
  },
  {
   "cell_type": "code",
   "execution_count": 48,
   "metadata": {},
   "outputs": [
    {
     "data": {
      "text/plain": [
       "[Theme(theme_text='Well-organized event with great support from helpers'),\n",
       " Theme(theme_text='Road closures that enhance the experience'),\n",
       " Theme(theme_text='Beautiful scenery along the route'),\n",
       " Theme(theme_text='Positive vibes and community support'),\n",
       " Theme(theme_text='Sufficient watering points during the race'),\n",
       " Theme(theme_text='Efficient start process and overall organization'),\n",
       " Theme(theme_text='Enjoyable atmosphere with beer tents and post-race celebrations')]"
      ]
     },
     "execution_count": 48,
     "metadata": {},
     "output_type": "execute_result"
    }
   ],
   "source": [
    "output.themes"
   ]
  },
  {
   "cell_type": "code",
   "execution_count": 45,
   "metadata": {},
   "outputs": [
    {
     "data": {
      "text/plain": [
       "'Well-organized event with great support from helpers\\nRoad closures that enhance the experience\\nBeautiful scenery along the route\\nPositive vibes and community support\\nSufficient watering points during the race\\nEfficient start process and overall organization\\nEnjoyable atmosphere with beer tents and post-race celebrations'"
      ]
     },
     "execution_count": 45,
     "metadata": {},
     "output_type": "execute_result"
    }
   ],
   "source": [
    "themes_for_input = \"\\n\".join([theme.theme_text for theme in output.themes])\n",
    "themes_for_input"
   ]
  },
  {
   "cell_type": "code",
   "execution_count": 44,
   "metadata": {},
   "outputs": [
    {
     "data": {
      "text/plain": [
       "'Well-organized event with great support from helpers\\nRoad closures that enhance the experience\\nBeautiful scenery along the route\\nPositive vibes and community support\\nSufficient watering points during the race\\nEfficient start process and overall organization\\nEnjoyable atmosphere with beer tents and post-race celebrations'"
      ]
     },
     "execution_count": 44,
     "metadata": {},
     "output_type": "execute_result"
    }
   ],
   "source": [
    "temp_themes_for_input = themes_for_input\n",
    "temp_themes_for_input"
   ]
  },
  {
   "cell_type": "code",
   "execution_count": 24,
   "metadata": {},
   "outputs": [
    {
     "name": "stdout",
     "output_type": "stream",
     "text": [
      "classifications=[EachAnswer(response_id=0, response_text='no answer given', theme_id=0, theme_text=''), EachAnswer(response_id=1, response_text='The Team who organise it!', theme_id=1, theme_text='Well organized event'), EachAnswer(response_id=2, response_text='well organised, great helpers ', theme_id=1, theme_text='Well organized event'), EachAnswer(response_id=3, response_text='Road closures ', theme_id=5, theme_text='Full road closures'), EachAnswer(response_id=4, response_text='Well organized event and great route', theme_id=1, theme_text='Well organized event'), EachAnswer(response_id=5, response_text='no answer given', theme_id=0, theme_text=''), EachAnswer(response_id=6, response_text='Awesome scenery, closed roads, excellent \"gees\"!', theme_id=2, theme_text='Positive atmosphere and vibe'), EachAnswer(response_id=7, response_text='no answer given', theme_id=0, theme_text=''), EachAnswer(response_id=8, response_text='Full road closure ', theme_id=5, theme_text='Full road closures'), EachAnswer(response_id=9, response_text='Riding in a beautiful race on closed roads', theme_id=3, theme_text='Scenic route and beautiful surroundings'), EachAnswer(response_id=10, response_text='no answer given', theme_id=0, theme_text=''), EachAnswer(response_id=11, response_text='Well organised as always', theme_id=1, theme_text='Well organized event'), EachAnswer(response_id=12, response_text='Great route and vibe', theme_id=2, theme_text='Positive atmosphere and vibe'), EachAnswer(response_id=13, response_text='Efficient start process', theme_id=4, theme_text='Effective logistical arrangements'), EachAnswer(response_id=14, response_text='Well organised. Support from the public. Great weather!', theme_id=4, theme_text='Effective logistical arrangements'), EachAnswer(response_id=15, response_text='Beautiful route, excellent organization, great vibe - on route and afterwards around the beer tents.', theme_id=2, theme_text='Positive atmosphere and vibe'), EachAnswer(response_id=16, response_text='Enough watering points along the route', theme_id=6, theme_text='Adequate amenities like watering points'), EachAnswer(response_id=17, response_text='no answer given', theme_id=0, theme_text=''), EachAnswer(response_id=18, response_text='Route, people, vibe', theme_id=2, theme_text='Positive atmosphere and vibe'), EachAnswer(response_id=19, response_text='The Vibe', theme_id=2, theme_text='Positive atmosphere and vibe')]\n"
     ]
    }
   ],
   "source": [
    "response = theme_matching(temp_themes_for_input, answers_list)\n",
    "response.classifications"
   ]
  },
  {
   "cell_type": "code",
   "execution_count": 30,
   "metadata": {},
   "outputs": [
    {
     "data": {
      "text/plain": [
       "[EachAnswer(response_id=0, response_text='no answer given', theme_id=0, theme_text=''),\n",
       " EachAnswer(response_id=1, response_text='The Team who organise it!', theme_id=1, theme_text='Well organized event'),\n",
       " EachAnswer(response_id=2, response_text='well organised, great helpers ', theme_id=1, theme_text='Well organized event'),\n",
       " EachAnswer(response_id=3, response_text='Road closures ', theme_id=5, theme_text='Full road closures'),\n",
       " EachAnswer(response_id=4, response_text='Well organized event and great route', theme_id=1, theme_text='Well organized event'),\n",
       " EachAnswer(response_id=5, response_text='no answer given', theme_id=0, theme_text=''),\n",
       " EachAnswer(response_id=6, response_text='Awesome scenery, closed roads, excellent \"gees\"!', theme_id=2, theme_text='Positive atmosphere and vibe'),\n",
       " EachAnswer(response_id=7, response_text='no answer given', theme_id=0, theme_text=''),\n",
       " EachAnswer(response_id=8, response_text='Full road closure ', theme_id=5, theme_text='Full road closures'),\n",
       " EachAnswer(response_id=9, response_text='Riding in a beautiful race on closed roads', theme_id=3, theme_text='Scenic route and beautiful surroundings'),\n",
       " EachAnswer(response_id=10, response_text='no answer given', theme_id=0, theme_text=''),\n",
       " EachAnswer(response_id=11, response_text='Well organised as always', theme_id=1, theme_text='Well organized event'),\n",
       " EachAnswer(response_id=12, response_text='Great route and vibe', theme_id=2, theme_text='Positive atmosphere and vibe'),\n",
       " EachAnswer(response_id=13, response_text='Efficient start process', theme_id=4, theme_text='Effective logistical arrangements'),\n",
       " EachAnswer(response_id=14, response_text='Well organised. Support from the public. Great weather!', theme_id=4, theme_text='Effective logistical arrangements'),\n",
       " EachAnswer(response_id=15, response_text='Beautiful route, excellent organization, great vibe - on route and afterwards around the beer tents.', theme_id=2, theme_text='Positive atmosphere and vibe'),\n",
       " EachAnswer(response_id=16, response_text='Enough watering points along the route', theme_id=6, theme_text='Adequate amenities like watering points'),\n",
       " EachAnswer(response_id=17, response_text='no answer given', theme_id=0, theme_text=''),\n",
       " EachAnswer(response_id=18, response_text='Route, people, vibe', theme_id=2, theme_text='Positive atmosphere and vibe'),\n",
       " EachAnswer(response_id=19, response_text='The Vibe', theme_id=2, theme_text='Positive atmosphere and vibe')]"
      ]
     },
     "execution_count": 30,
     "metadata": {},
     "output_type": "execute_result"
    }
   ],
   "source": [
    "response.classifications"
   ]
  },
  {
   "cell_type": "code",
   "execution_count": null,
   "metadata": {},
   "outputs": [],
   "source": []
  }
 ],
 "metadata": {
  "kernelspec": {
   "display_name": "transcriptions",
   "language": "python",
   "name": "python3"
  },
  "language_info": {
   "codemirror_mode": {
    "name": "ipython",
    "version": 3
   },
   "file_extension": ".py",
   "mimetype": "text/x-python",
   "name": "python",
   "nbconvert_exporter": "python",
   "pygments_lexer": "ipython3",
   "version": "3.12.1"
  }
 },
 "nbformat": 4,
 "nbformat_minor": 2
}
